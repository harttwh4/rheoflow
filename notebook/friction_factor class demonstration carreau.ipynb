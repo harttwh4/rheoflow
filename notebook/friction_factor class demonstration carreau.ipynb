{
 "cells": [
  {
   "cell_type": "markdown",
   "metadata": {},
   "source": [
    "# Friction factor calculations for non-Newtonian fluids"
   ]
  },
  {
   "cell_type": "markdown",
   "metadata": {},
   "source": [
    "## Import friction_factor_properties.py python file from current directory (for now)"
   ]
  },
  {
   "cell_type": "code",
   "execution_count": 1,
   "metadata": {},
   "outputs": [],
   "source": [
    "import numpy as np\n",
    "import scipy.optimize as spo\n",
    "import matplotlib.pyplot as plt"
   ]
  },
  {
   "cell_type": "code",
   "execution_count": 2,
   "metadata": {},
   "outputs": [],
   "source": [
    "import friction_factor_property as f"
   ]
  },
  {
   "cell_type": "code",
   "execution_count": 3,
   "metadata": {},
   "outputs": [],
   "source": [
    "diameter = .09738\n",
    "length = 100.\n",
    "mdot = 200.0 # kg/min\n",
    "density = 1000. # kg/m^3\n",
    "q = mdot/60.0/density\n",
    "u = q / (3.14159*(diameter/2.0)**2)"
   ]
  },
  {
   "cell_type": "markdown",
   "metadata": {},
   "source": [
    "## Carreau example"
   ]
  },
  {
   "cell_type": "code",
   "execution_count": 4,
   "metadata": {},
   "outputs": [],
   "source": [
    "def carreau(eta0,etainf,reltime,a,n,rate):\n",
    "    return etainf + (eta0-etainf)/(1.0+(reltime*rate)**a)**((1.-n)/a)\n",
    "\n",
    "eta0 = 5.\n",
    "etainf=.01\n",
    "reltime=1.\n",
    "a=2.\n",
    "n=.5\n",
    "viscosity_c = lambda x: carreau(eta0,etainf,reltime,a,n,x)"
   ]
  },
  {
   "cell_type": "code",
   "execution_count": 5,
   "metadata": {},
   "outputs": [],
   "source": [
    "c = f.Friction_Factor(name='Carreau test',rho=1000.,d=diameter,l=length,viscosity=viscosity_c)"
   ]
  },
  {
   "cell_type": "code",
   "execution_count": 6,
   "metadata": {},
   "outputs": [],
   "source": [
    "c.u=1."
   ]
  },
  {
   "cell_type": "code",
   "execution_count": 7,
   "metadata": {},
   "outputs": [
    {
     "name": "stdout",
     "output_type": "stream",
     "text": [
      "Name= Carreau test\n",
      "Diameter = 0.09738\n",
      "Length = 100.0\n",
      "U = 1.0\n",
      "Pressure drop = 189148.44654379366\n",
      "Friction factor = 0.09209637862217311\n",
      "Reynolds number = 173.73104392679937\n",
      "\n"
     ]
    }
   ],
   "source": [
    "print(c)"
   ]
  },
  {
   "cell_type": "code",
   "execution_count": 8,
   "metadata": {},
   "outputs": [],
   "source": [
    "c.u=5."
   ]
  },
  {
   "cell_type": "code",
   "execution_count": 9,
   "metadata": {},
   "outputs": [
    {
     "name": "stdout",
     "output_type": "stream",
     "text": [
      "Name= Carreau test\n",
      "Diameter = 0.09738\n",
      "Length = 100.0\n",
      "U = 5.0\n",
      "Pressure drop = 432290.46568280866\n",
      "Friction factor = 0.008419289109633951\n",
      "Reynolds number = 1900.3979779816848\n",
      "\n"
     ]
    }
   ],
   "source": [
    "print(c)"
   ]
  },
  {
   "cell_type": "code",
   "execution_count": 10,
   "metadata": {},
   "outputs": [],
   "source": [
    "c.u=10."
   ]
  },
  {
   "cell_type": "code",
   "execution_count": 11,
   "metadata": {},
   "outputs": [
    {
     "name": "stdout",
     "output_type": "stream",
     "text": [
      "Name= Carreau test\n",
      "Diameter = 0.09738\n",
      "Length = 100.0\n",
      "U = 10.0\n",
      "Pressure drop = 1107214.4844661907\n",
      "Friction factor = 0.005391027324864479\n",
      "Reynolds number = 8735.273746938115\n",
      "\n"
     ]
    }
   ],
   "source": [
    "print(c)"
   ]
  },
  {
   "cell_type": "code",
   "execution_count": 17,
   "metadata": {},
   "outputs": [],
   "source": [
    "c.u = 12."
   ]
  },
  {
   "cell_type": "code",
   "execution_count": 18,
   "metadata": {},
   "outputs": [
    {
     "name": "stdout",
     "output_type": "stream",
     "text": [
      "Name= Carreau test\n",
      "Diameter = 0.09738\n",
      "Length = 100.0\n",
      "U = 12.0\n",
      "Pressure drop = 1433758.0823980498\n",
      "Friction factor = 0.004847894516109725\n",
      "Reynolds number = 12951.075311423305\n",
      "\n"
     ]
    }
   ],
   "source": [
    "print(c)"
   ]
  },
  {
   "cell_type": "code",
   "execution_count": null,
   "metadata": {},
   "outputs": [],
   "source": []
  }
 ],
 "metadata": {
  "kernelspec": {
   "display_name": "Python 3",
   "language": "python",
   "name": "python3"
  },
  "language_info": {
   "codemirror_mode": {
    "name": "ipython",
    "version": 3
   },
   "file_extension": ".py",
   "mimetype": "text/x-python",
   "name": "python",
   "nbconvert_exporter": "python",
   "pygments_lexer": "ipython3",
   "version": "3.6.9"
  }
 },
 "nbformat": 4,
 "nbformat_minor": 2
}
