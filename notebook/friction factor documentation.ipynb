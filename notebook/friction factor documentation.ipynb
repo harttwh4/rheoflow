{
 "cells": [
  {
   "cell_type": "markdown",
   "metadata": {},
   "source": [
    "# Friction factor calculations for non-Newtonian fluids"
   ]
  },
  {
   "cell_type": "markdown",
   "metadata": {},
   "source": [
    "## Technical background\n",
    "\n",
    "### Von Karmen equation for f\n",
    "\n",
    "$ \\frac{1}{\\sqrt{f}} = 4.0 log_{10} \\left(Re \\sqrt{f} \\right) - 0.4 $\n",
    "\n",
    "The function f_vonkarmen returns the value of the equation given $f_{guess}$ and Re\n",
    "\n",
    "$ \\frac{1}{\\sqrt{f_{guess}}} - 4.0 log_{10} \\left(Re \\sqrt{f_{guess}} \\right) + 0.4 $\n",
    "\n",
    "The scipy function brentq is used here to solve the equation above for f by setting the equation to 0.  brentq requires three arguments:\n",
    "1. A function with one argument that returns value of equation to be solved\n",
    "2. Minimum value of variable to be solved for\n",
    "3. Maximum value of variable top be solved for\n",
    "\n",
    "The function f_vonkarmen has two arguments, $f_{guess}$ and Re. A lambda function is used here to create a function with a single argument $f_{guess}$ for a specified value of Re.\n",
    "\n",
    "lambda $f_{guess}$: f_vonkarmen($f_{guess}$,Re)\n",
    "\n",
    "### Non-Newtonian Von Karmen equation (Dodge and Metzner)\n",
    "\n",
    "The modified Von Karmen equation from Dodge and Metzner is\n",
    "\n",
    "\n",
    "$ \\frac{1}{\\sqrt{f}} = \\frac{4}{n'^{0.75}} Log \\left( f^{1-\\frac{n'}{2}} Re \\right) - \\frac{0.4}{n'^{1.2}} $\n",
    "\n",
    "This equation is solved in the same manner as the Newtonian version with scipy.brentq.\n",
    "\n",
    "### Calculation of n'\n",
    "\n",
    "In the series of Metzner papers, n' is defined as\n",
    "\n",
    "$ n' = \\frac{d Log \\left( \\tau_w \\right)}{d  Log \\left( \\dot{\\gamma}_a \\right) }$\n",
    "\n",
    "where $\\tau_w$ is the wall shear stress and $\\dot{\\gamma}_a$ is the apparent wall shear rate.\n",
    "\n",
    "$\\tau_w = \\frac{D}{4} \\frac{\\Delta P}{L}$\n",
    "\n",
    "$\\dot{\\gamma}_a = \\frac{8U}{D}$\n",
    "\n",
    "To make this calculation model independent, it is computed numerically now.  In the future automatic differentiation would be nice. For now:\n",
    "\n",
    "$n' = \\frac{Log (\\eta (x+\\Delta x)(x+\\Delta x)) - Log (\\eta(x-\\Delta x )(x-\\Delta x))}{Log(x+\\Delta x) - Log(x-\\Delta x)}$\n",
    "\n",
    "where x = $\\dot{\\gamma}_w$\n",
    "\n",
    "### Equations to solve\n",
    "\n",
    "$ \\frac{1}{\\sqrt{f}} = \\frac{4}{n'^{0.75}} Log \\left( f^{1-\\frac{n'}{2}} Re \\right) - \\frac{0.4}{n'^{1.2}} $\n",
    "\n",
    "$ Re = \\frac{\\rho D U}{\\eta(\\dot{\\gamma}_w)} $\n",
    "\n",
    "$ \\tau_w = \\eta(\\dot{\\gamma}_w) \\dot{\\gamma}_w $\n",
    "\n",
    "$ \\tau_w = \\frac{D}{4} \\frac{\\Delta P}{L} $\n",
    "\n",
    "$ f = \\frac{\\Delta P D}{2 \\rho^2 L} $\n",
    "\n",
    "with unknowns f, Re, $\\tau_w$, $\\dot{\\gamma}_w$, $\\Delta P$ assuming $\\eta(\\dot{\\gamma})$, $\\rho$, D, and L are specified\n",
    "\n",
    "\n",
    "### Note on friction factor definitions\n",
    "\n",
    "There are at least three friction factor definitions: Darcy, Fanning, and Newton.  The Fanning friction factor (used here) is \n",
    "\n",
    "$ f = \\frac{D \\Delta P}{2 \\rho  U^2 L} $\n",
    "\n",
    "The resulting laminar flow equation is\n",
    "\n",
    "$ f = \\frac{16}{Re} $\n",
    "\n",
    "The Darcy friction factor is \n",
    "\n",
    "$ f_D = \\frac{ 2 D \\Delta P}{\\rho U^2 L} $\n",
    "\n",
    "and the resulting laminar flow equation is \n",
    "\n",
    "$ f_D = \\frac{64}{Re} $\n",
    "\n",
    "Finally there is the Newton number.  We don't use that here."
   ]
  },
  {
   "cell_type": "markdown",
   "metadata": {},
   "source": [
    "## Import friction_factor.py python file from current directory (for now)"
   ]
  },
  {
   "cell_type": "code",
   "execution_count": 1,
   "metadata": {},
   "outputs": [],
   "source": [
    "from rheopy import friction_factor_property as f\n",
    "#import friction_factor_property as f"
   ]
  },
  {
   "cell_type": "markdown",
   "metadata": {},
   "source": [
    "### Define a viscosity model for this example"
   ]
  },
  {
   "cell_type": "code",
   "execution_count": 2,
   "metadata": {},
   "outputs": [],
   "source": [
    "def power_law(k,n,gammadot):\n",
    "    return k*(gammadot+1.e-9)**(n-1.)\n",
    "\n",
    "k = .1\n",
    "n = .5\n",
    "viscosity = lambda x: power_law(k,n,x)\n",
    "\n",
    "diameter = .09738"
   ]
  },
  {
   "cell_type": "markdown",
   "metadata": {},
   "source": [
    "### Instantiate (create) an object, a, of class friction_factor\n",
    "\n",
    "The arguments are:\n",
    "name = name of object chosen by user\n",
    "rho = density in SI units (kg/m^3)\n",
    "d = pipe diameter in SI units (m)\n",
    "l = pipe length in SI units (m)\n",
    "viscosity = function that returns viscosity given a shear rate (defined above)"
   ]
  },
  {
   "cell_type": "code",
   "execution_count": 3,
   "metadata": {},
   "outputs": [],
   "source": [
    "a = f.friction_factor(name='test',rho=1000.,d=.09738,l=100.,viscosity=viscosity)"
   ]
  },
  {
   "cell_type": "markdown",
   "metadata": {},
   "source": [
    "### Case 1 - input average velocity, u, and compute pressure drop, Re, f, etc\n",
    "\n",
    "u = 1 (m/s)"
   ]
  },
  {
   "cell_type": "code",
   "execution_count": 4,
   "metadata": {},
   "outputs": [
    {
     "name": "stdout",
     "output_type": "stream",
     "text": [
      "Name= test\n",
      "Diameter = 0.09738\n",
      "Length = 100.0\n",
      "Density = 1000.0\n",
      "U = 0.44755837705026\n",
      "Pressure drop = 2958.7020853480603\n",
      "Friction factor = 0.007191866741121529\n",
      "Reynolds number = 3139.283065162426\n",
      "Wall shear rate = 51.882636029577945\n",
      "Wall shear stress = 0.7202960226779853\n",
      "\n"
     ]
    }
   ],
   "source": [
    "mdot = 200.0 # kg/min\n",
    "density = 1000. # kg/m^3\n",
    "q = mdot/60.0/density\n",
    "u = q / (3.14159*(diameter/2.0)**2)\n",
    "\n",
    "a.u=u\n",
    "print(a)"
   ]
  },
  {
   "cell_type": "markdown",
   "metadata": {},
   "source": [
    "### Case 2 - input pressure drop and compute u, Re, f, etc\n",
    "\n",
    "delta P = 2958.7 (Pa)"
   ]
  },
  {
   "cell_type": "code",
   "execution_count": 5,
   "metadata": {},
   "outputs": [
    {
     "name": "stdout",
     "output_type": "stream",
     "text": [
      "Name= test\n",
      "Diameter = 0.09738\n",
      "Length = 100.0\n",
      "Density = 1000.0\n",
      "U = 0.4475581150143437\n",
      "Pressure drop = 2958.7\n",
      "Friction factor = 0.007191870093534452\n",
      "Reynolds number = 3139.279014555334\n",
      "Wall shear rate = 51.88256289391151\n",
      "Wall shear stress = 0.720295515\n",
      "\n"
     ]
    }
   ],
   "source": [
    "a.pressure_drop = 2958.7\n",
    "print(a)"
   ]
  },
  {
   "cell_type": "markdown",
   "metadata": {},
   "source": [
    "### Each variable printed above may be accessed"
   ]
  },
  {
   "cell_type": "code",
   "execution_count": 6,
   "metadata": {},
   "outputs": [
    {
     "data": {
      "text/plain": [
       "0.4475581150143437"
      ]
     },
     "execution_count": 6,
     "metadata": {},
     "output_type": "execute_result"
    }
   ],
   "source": [
    "a.u"
   ]
  },
  {
   "cell_type": "code",
   "execution_count": 7,
   "metadata": {},
   "outputs": [
    {
     "data": {
      "text/plain": [
       "2958.7"
      ]
     },
     "execution_count": 7,
     "metadata": {},
     "output_type": "execute_result"
    }
   ],
   "source": [
    "a.pressure_drop"
   ]
  },
  {
   "cell_type": "code",
   "execution_count": 8,
   "metadata": {},
   "outputs": [
    {
     "data": {
      "text/plain": [
       "0.007191870093534452"
      ]
     },
     "execution_count": 8,
     "metadata": {},
     "output_type": "execute_result"
    }
   ],
   "source": [
    "a.f"
   ]
  },
  {
   "cell_type": "code",
   "execution_count": 9,
   "metadata": {},
   "outputs": [
    {
     "data": {
      "text/plain": [
       "3139.279014555334"
      ]
     },
     "execution_count": 9,
     "metadata": {},
     "output_type": "execute_result"
    }
   ],
   "source": [
    "a.re"
   ]
  },
  {
   "cell_type": "code",
   "execution_count": 10,
   "metadata": {},
   "outputs": [
    {
     "data": {
      "text/plain": [
       "0.09738"
      ]
     },
     "execution_count": 10,
     "metadata": {},
     "output_type": "execute_result"
    }
   ],
   "source": [
    "a.d"
   ]
  },
  {
   "cell_type": "code",
   "execution_count": 11,
   "metadata": {},
   "outputs": [
    {
     "data": {
      "text/plain": [
       "100.0"
      ]
     },
     "execution_count": 11,
     "metadata": {},
     "output_type": "execute_result"
    }
   ],
   "source": [
    "a.l"
   ]
  },
  {
   "cell_type": "code",
   "execution_count": 12,
   "metadata": {},
   "outputs": [
    {
     "name": "stdout",
     "output_type": "stream",
     "text": [
      "Name= test\n",
      "Diameter = 0.09738\n",
      "Length = 100.0\n",
      "Density = 1000.0\n",
      "U = 0.0721438543307193\n",
      "Pressure drop = 1000.0\n",
      "Friction factor = 0.09354941853145766\n",
      "Reynolds number = 171.03259700674852\n",
      "Wall shear rate = 5.926790251\n",
      "Wall shear stress = 0.24345\n",
      "\n",
      "Name= test\n",
      "Diameter = 0.09738\n",
      "Length = 100.0\n",
      "Density = 1000.0\n",
      "U = 0.28857541728488334\n",
      "Pressure drop = 2000.0\n",
      "Friction factor = 0.011693677319511394\n",
      "Reynolds number = 1368.260775700697\n",
      "Wall shear rate = 23.707161000999996\n",
      "Wall shear stress = 0.4869\n",
      "\n"
     ]
    }
   ],
   "source": [
    "for dp in [1000.,2000.]:\n",
    "    a.pressure_drop = dp\n",
    "    print(a)"
   ]
  },
  {
   "cell_type": "code",
   "execution_count": null,
   "metadata": {},
   "outputs": [],
   "source": []
  }
 ],
 "metadata": {
  "hide_input": false,
  "kernelspec": {
   "display_name": "Python 3",
   "language": "python",
   "name": "python3"
  },
  "language_info": {
   "codemirror_mode": {
    "name": "ipython",
    "version": 3
   },
   "file_extension": ".py",
   "mimetype": "text/x-python",
   "name": "python",
   "nbconvert_exporter": "python",
   "pygments_lexer": "ipython3",
   "version": "3.6.9"
  }
 },
 "nbformat": 4,
 "nbformat_minor": 2
}
