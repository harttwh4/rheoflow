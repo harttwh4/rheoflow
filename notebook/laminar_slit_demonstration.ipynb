{
 "cells": [
  {
   "cell_type": "code",
   "execution_count": 4,
   "metadata": {},
   "outputs": [],
   "source": [
    "import rheopy.laminar as laminar"
   ]
  },
  {
   "cell_type": "code",
   "execution_count": 2,
   "metadata": {},
   "outputs": [],
   "source": [
    "import numpy as np\n",
    "import matplotlib.pyplot as plt\n",
    "%matplotlib inline"
   ]
  },
  {
   "cell_type": "markdown",
   "metadata": {},
   "source": [
    "# Non-Newtonian slit flow calculator examples"
   ]
  },
  {
   "cell_type": "markdown",
   "metadata": {},
   "source": [
    "## Governing equations\n",
    "\n",
    "### Shear rate\n",
    "\n",
    "$\\dot{\\gamma} \\eta \\left( \\dot{\\gamma} \\right) - y \\frac{\\Delta P}{L}=0$ where y goes from -H/2 to H/2.  The viscosity function $\\eta(\\dot{\\gamma})$ may be any well posed function of shear rate.  The equation is solved numerically using scipy.brentq whenever a shear rate at any height y is needed.\n",
    "\n",
    "### Velocity\n",
    "\n",
    "$v_z(y) = \\int_{\\frac{H}{2}}^{y} \\dot{\\gamma}(y) dy$ where y is any height between 0 and H/2.  The equation is integrated numerically using scipy.quad.\n",
    "\n",
    "### Volumetric flow rate\n",
    "\n",
    "$Q = 2W \\int_{0}^{\\frac{H}{2}} v_z(y) dy$\n",
    "\n"
   ]
  },
  {
   "cell_type": "markdown",
   "metadata": {},
   "source": [
    "## Newtonian example"
   ]
  },
  {
   "cell_type": "code",
   "execution_count": 5,
   "metadata": {},
   "outputs": [],
   "source": [
    "my_newt = laminar.newtonian('sample Newtonian',mu=1.)"
   ]
  },
  {
   "cell_type": "code",
   "execution_count": 6,
   "metadata": {},
   "outputs": [
    {
     "name": "stderr",
     "output_type": "stream",
     "text": [
      "/Users/whhiv/anaconda3/lib/python3.6/site-packages/matplotlib/axes/_base.py:3370: UserWarning: Attempting to set identical bottom==top results\n",
      "in singular transformations; automatically expanding.\n",
      "bottom=1.0, top=1.0\n",
      "  self.set_ylim(upper, lower, auto=None)\n"
     ]
    },
    {
     "data": {
      "image/png": "[encoded data removed]",
      "text/plain": [
       "<Figure size 432x288 with 1 Axes>"
      ]
     },
     "metadata": {},
     "output_type": "display_data"
    }
   ],
   "source": [
    "my_newt.visc_plot()"
   ]
  },
  {
   "cell_type": "code",
   "execution_count": 7,
   "metadata": {},
   "outputs": [
    {
     "name": "stdout",
     "output_type": "stream",
     "text": [
      "sample Newtonian\n",
      "mu =1.0\n",
      "\n"
     ]
    }
   ],
   "source": [
    "print(my_newt)"
   ]
  },
  {
   "cell_type": "code",
   "execution_count": 8,
   "metadata": {},
   "outputs": [],
   "source": [
    "my_slit = laminar.laminar_slit_flow(name='my Newtonian laminar flow slit',density=1000.,\n",
    "                               height=.01,width=.1,length=1.0,viscosity=my_newt)"
   ]
  },
  {
   "cell_type": "code",
   "execution_count": 9,
   "metadata": {},
   "outputs": [
    {
     "name": "stdout",
     "output_type": "stream",
     "text": [
      "Name =my Newtonian laminar flow slit\n",
      "Height =0.01\n",
      "Width =0.1\n",
      "Length =1.0\n",
      "Pressure drop =None\n",
      "Flow rate =None\n",
      "Shear rate wall = None\n"
     ]
    }
   ],
   "source": [
    "print(my_slit)"
   ]
  },
  {
   "cell_type": "code",
   "execution_count": 10,
   "metadata": {},
   "outputs": [],
   "source": [
    "my_slit.pressure_drop"
   ]
  },
  {
   "cell_type": "code",
   "execution_count": 11,
   "metadata": {},
   "outputs": [],
   "source": [
    "my_slit.q"
   ]
  },
  {
   "cell_type": "code",
   "execution_count": 12,
   "metadata": {},
   "outputs": [],
   "source": [
    "my_slit.pressure_drop = 10000."
   ]
  },
  {
   "cell_type": "code",
   "execution_count": 13,
   "metadata": {},
   "outputs": [
    {
     "name": "stdout",
     "output_type": "stream",
     "text": [
      "Name =my Newtonian laminar flow slit\n",
      "Height =0.01\n",
      "Width =0.1\n",
      "Length =1.0\n",
      "Pressure drop =10000.0\n",
      "Flow rate =8.333333333333337e-05\n",
      "Shear rate wall = 50.0\n"
     ]
    }
   ],
   "source": [
    "print(my_slit)"
   ]
  },
  {
   "cell_type": "code",
   "execution_count": 14,
   "metadata": {},
   "outputs": [
    {
     "data": {
      "text/plain": [
       "0.125"
      ]
     },
     "execution_count": 14,
     "metadata": {},
     "output_type": "execute_result"
    }
   ],
   "source": [
    "my_slit.vz(.0,10000.)"
   ]
  },
  {
   "cell_type": "code",
   "execution_count": 15,
   "metadata": {},
   "outputs": [],
   "source": [
    "my_slit.pressure_drop = 20000."
   ]
  },
  {
   "cell_type": "code",
   "execution_count": 16,
   "metadata": {},
   "outputs": [
    {
     "data": {
      "text/plain": [
       "0.00016666666666666674"
      ]
     },
     "execution_count": 16,
     "metadata": {},
     "output_type": "execute_result"
    }
   ],
   "source": [
    "my_slit.q"
   ]
  },
  {
   "cell_type": "code",
   "execution_count": 17,
   "metadata": {},
   "outputs": [
    {
     "name": "stdout",
     "output_type": "stream",
     "text": [
      "Name =my Newtonian laminar flow slit\n",
      "Height =0.01\n",
      "Width =0.1\n",
      "Length =1.0\n",
      "Pressure drop =20000.0\n",
      "Flow rate =0.00016666666666666674\n",
      "Shear rate wall = 100.0\n"
     ]
    }
   ],
   "source": [
    "print(my_slit)"
   ]
  },
  {
   "cell_type": "code",
   "execution_count": 18,
   "metadata": {},
   "outputs": [],
   "source": [
    "my_slit.q = 8.33e-5"
   ]
  },
  {
   "cell_type": "code",
   "execution_count": 19,
   "metadata": {},
   "outputs": [
    {
     "name": "stdout",
     "output_type": "stream",
     "text": [
      "Name =my Newtonian laminar flow slit\n",
      "Height =0.01\n",
      "Width =0.1\n",
      "Length =1.0\n",
      "Pressure drop =9996.000000000002\n",
      "Flow rate =8.33e-05\n",
      "Shear rate wall = 49.98000000000001\n"
     ]
    }
   ],
   "source": [
    "print(my_slit)"
   ]
  },
  {
   "cell_type": "code",
   "execution_count": 20,
   "metadata": {},
   "outputs": [
    {
     "data": {
      "image/png": "[encoded data removed]",
      "text/plain": [
       "<Figure size 432x288 with 1 Axes>"
      ]
     },
     "metadata": {},
     "output_type": "display_data"
    }
   ],
   "source": [
    "q_plot = np.logspace(-6,-3,21)\n",
    "dp_plot = [my_slit.pressure_drop for my_slit.q in q_plot]\n",
    "plt.loglog(q_plot,dp_plot,'o')\n",
    "plt.xlabel('Q')\n",
    "plt.ylabel('$\\Delta P$');"
   ]
  },
  {
   "cell_type": "code",
   "execution_count": 21,
   "metadata": {},
   "outputs": [
    {
     "data": {
      "image/png": "[encoded data removed]",
      "text/plain": [
       "<Figure size 432x288 with 1 Axes>"
      ]
     },
     "metadata": {},
     "output_type": "display_data"
    }
   ],
   "source": [
    "dp_plot = np.logspace(2,5,21)\n",
    "q_plot = [my_slit.q for my_slit.pressure_drop in dp_plot]\n",
    "plt.loglog(q_plot,dp_plot,'o')\n",
    "plt.xlabel('Q')\n",
    "plt.ylabel('$\\Delta P$');"
   ]
  },
  {
   "cell_type": "code",
   "execution_count": 22,
   "metadata": {},
   "outputs": [
    {
     "name": "stdout",
     "output_type": "stream",
     "text": [
      "Name =my Newtonian laminar flow slit\n",
      "Height =0.01\n",
      "Width =0.1\n",
      "Length =1.0\n",
      "Pressure drop =100000.0\n",
      "Flow rate =0.0008333333333333333\n",
      "Shear rate wall = 500.0\n"
     ]
    }
   ],
   "source": [
    "print(my_slit)"
   ]
  },
  {
   "cell_type": "markdown",
   "metadata": {},
   "source": [
    "## Herschel-Bulkley example"
   ]
  },
  {
   "cell_type": "markdown",
   "metadata": {},
   "source": [
    "### The Herschel-Bulkley model function\n",
    "\n",
    "The Herschel-Bulkley model is written as $$\\eta \\left( \\dot{\\gamma} \\right) = \\frac{\\tau_y}{\\dot{\\gamma}}+k \\dot{\\gamma}^{n-1}$$ where $tau_y$, k, and n are parameters.\n",
    "\n",
    "To deal with $\\dot{\\gamma}=0$, the Papanasatasiou relation is used, resulting in $$\\eta \\left( \\dot{\\gamma} \\right) = \\left( 1 - e^{-m \\dot{\\gamma}} \\right )\\frac{\\tau_y}{\\dot{\\gamma}}+k \\dot{\\gamma}^{n-1}$$ where m is a large value.\n"
   ]
  },
  {
   "cell_type": "code",
   "execution_count": 23,
   "metadata": {},
   "outputs": [],
   "source": [
    "tauy=10.\n",
    "k=5.\n",
    "n=0.7\n",
    "hb_model = laminar.herschel_bulkley('my HB test',tauy,k,n)"
   ]
  },
  {
   "cell_type": "code",
   "execution_count": 24,
   "metadata": {},
   "outputs": [
    {
     "data": {
      "image/png": "[encoded data removed]",
      "text/plain": [
       "<Figure size 432x288 with 1 Axes>"
      ]
     },
     "metadata": {},
     "output_type": "display_data"
    }
   ],
   "source": [
    "hb_model.visc_plot()"
   ]
  },
  {
   "cell_type": "markdown",
   "metadata": {},
   "source": [
    "To see the effect of m, plot low shear rates"
   ]
  },
  {
   "cell_type": "code",
   "execution_count": 25,
   "metadata": {},
   "outputs": [
    {
     "data": {
      "image/png": "[encoded data removed]",
      "text/plain": [
       "<Figure size 432x288 with 1 Axes>"
      ]
     },
     "metadata": {},
     "output_type": "display_data"
    }
   ],
   "source": [
    "hb_model.visc_plot()"
   ]
  },
  {
   "cell_type": "markdown",
   "metadata": {},
   "source": [
    "### Create a slit with hb_model as viscosity function"
   ]
  },
  {
   "cell_type": "code",
   "execution_count": 26,
   "metadata": {},
   "outputs": [],
   "source": [
    "density = 1000.\n",
    "height = 0.01\n",
    "width = 0.1\n",
    "length = 1.0\n",
    "\n",
    "hb_slit = laminar.laminar_slit_flow('My Herschel-Bulkley slit',density=density,height=height,width=width, \\\n",
    "                length=length,viscosity=hb_model)"
   ]
  },
  {
   "cell_type": "code",
   "execution_count": 27,
   "metadata": {},
   "outputs": [
    {
     "name": "stdout",
     "output_type": "stream",
     "text": [
      "Name =My Herschel-Bulkley slit\n",
      "Height =0.01\n",
      "Width =0.1\n",
      "Length =1.0\n",
      "Pressure drop =None\n",
      "Flow rate =None\n",
      "Shear rate wall = None\n"
     ]
    }
   ],
   "source": [
    "print(hb_slit)"
   ]
  },
  {
   "cell_type": "code",
   "execution_count": 28,
   "metadata": {},
   "outputs": [],
   "source": [
    "hb_slit.pressure_drop = 10000."
   ]
  },
  {
   "cell_type": "code",
   "execution_count": 29,
   "metadata": {},
   "outputs": [
    {
     "name": "stdout",
     "output_type": "stream",
     "text": [
      "Name =My Herschel-Bulkley slit\n",
      "Height =0.01\n",
      "Width =0.1\n",
      "Length =1.0\n",
      "Pressure drop =10000.0\n",
      "Flow rate =2.462904235242411e-05\n",
      "Shear rate wall = 19.504218468057328\n"
     ]
    }
   ],
   "source": [
    "print(hb_slit)"
   ]
  },
  {
   "cell_type": "code",
   "execution_count": null,
   "metadata": {},
   "outputs": [],
   "source": []
  },
  {
   "cell_type": "code",
   "execution_count": 30,
   "metadata": {},
   "outputs": [
    {
     "data": {
      "image/png": "[encoded data removed]",
      "text/plain": [
       "<Figure size 432x288 with 1 Axes>"
      ]
     },
     "metadata": {},
     "output_type": "display_data"
    }
   ],
   "source": [
    "hb_slit.q_plot(1000.,100000.)"
   ]
  },
  {
   "cell_type": "code",
   "execution_count": 31,
   "metadata": {},
   "outputs": [
    {
     "data": {
      "text/plain": [
       "0.09607404454014327"
      ]
     },
     "execution_count": 31,
     "metadata": {},
     "output_type": "execute_result"
    }
   ],
   "source": [
    "hb_slit.re_wall()"
   ]
  },
  {
   "cell_type": "code",
   "execution_count": null,
   "metadata": {},
   "outputs": [],
   "source": []
  },
  {
   "cell_type": "markdown",
   "metadata": {},
   "source": [
    "# Carreau viscosity model example"
   ]
  },
  {
   "cell_type": "markdown",
   "metadata": {},
   "source": [
    "The Carreau viscosity model may be expressed with four parameters as:\n",
    "\n",
    "$ \\eta \\left( \\dot{\\gamma} \\right) = \\eta_{\\infty}+\\frac{\\eta_0-\\eta_{\\infty}}{\\left( 1+\\left(\\lambda \\dot{\\gamma} \\right)^a \\right)}^{\\frac{1-n}{n}} $\n",
    "\n",
    "To instantiate an object of class Carreau, we use"
   ]
  },
  {
   "cell_type": "code",
   "execution_count": 32,
   "metadata": {},
   "outputs": [],
   "source": [
    "my_carreau_model = laminar.carreau('My first Carreau model',\n",
    "                                   eta0=5.,etainf=.11,reltime=.02,a=1.3,n=.3)"
   ]
  },
  {
   "cell_type": "markdown",
   "metadata": {},
   "source": [
    "To compute the viscosity at a specified shear rate, we use the calc_visc(rate) method"
   ]
  },
  {
   "cell_type": "code",
   "execution_count": 33,
   "metadata": {},
   "outputs": [
    {
     "data": {
      "text/plain": [
       "4.7030017198606435"
      ]
     },
     "execution_count": 33,
     "metadata": {},
     "output_type": "execute_result"
    }
   ],
   "source": [
    "my_carreau_model.calc_visc(rate=10.)"
   ]
  },
  {
   "cell_type": "markdown",
   "metadata": {},
   "source": [
    "To view the model parameters, we use the print method"
   ]
  },
  {
   "cell_type": "code",
   "execution_count": 34,
   "metadata": {},
   "outputs": [
    {
     "name": "stdout",
     "output_type": "stream",
     "text": [
      "My first Carreau model\n",
      "eta0 =5.0\n",
      "etainf =0.11\n",
      "reltime =0.02\n",
      "a =1.3\n",
      "n=0.3\n",
      "\n"
     ]
    }
   ],
   "source": [
    "print(my_carreau_model)"
   ]
  },
  {
   "cell_type": "markdown",
   "metadata": {},
   "source": [
    "To plot the viscosity versus shear rate on a log-log plot, we use the method visc_plot(rate_min,rate_max), which is inherited from the Property_plot class."
   ]
  },
  {
   "cell_type": "code",
   "execution_count": 35,
   "metadata": {},
   "outputs": [
    {
     "data": {
      "image/png": "[encoded data removed]",
      "text/plain": [
       "<Figure size 432x288 with 1 Axes>"
      ]
     },
     "metadata": {},
     "output_type": "display_data"
    }
   ],
   "source": [
    "my_carreau_model.visc_plot()"
   ]
  },
  {
   "cell_type": "markdown",
   "metadata": {},
   "source": [
    "# Laminar slit flow - Carreau viscosity model"
   ]
  },
  {
   "cell_type": "markdown",
   "metadata": {},
   "source": [
    "We will instantiate an object my_pipe with a few properties and also use the object my_carreau_model to specifiy the viscosity behavior."
   ]
  },
  {
   "cell_type": "code",
   "execution_count": 36,
   "metadata": {},
   "outputs": [],
   "source": [
    "my_slit = laminar.laminar_slit_flow('my laminar flow slit',density=1000.,\n",
    "                               height=.01,width=.1,length=1.0,viscosity=my_carreau_model)"
   ]
  },
  {
   "cell_type": "markdown",
   "metadata": {},
   "source": [
    "Set the pressure drop"
   ]
  },
  {
   "cell_type": "code",
   "execution_count": 37,
   "metadata": {},
   "outputs": [],
   "source": [
    "my_slit.pressure_drop = 20000."
   ]
  },
  {
   "cell_type": "code",
   "execution_count": 38,
   "metadata": {},
   "outputs": [
    {
     "data": {
      "text/plain": [
       "3.747002759454248e-05"
      ]
     },
     "execution_count": 38,
     "metadata": {},
     "output_type": "execute_result"
    }
   ],
   "source": [
    "my_slit.q"
   ]
  },
  {
   "cell_type": "code",
   "execution_count": 39,
   "metadata": {},
   "outputs": [
    {
     "name": "stdout",
     "output_type": "stream",
     "text": [
      "Name =my laminar flow slit\n",
      "Height =0.01\n",
      "Width =0.1\n",
      "Length =1.0\n",
      "Pressure drop =20000.0\n",
      "Flow rate =3.747002759454248e-05\n",
      "Shear rate wall = 23.673966897448764\n"
     ]
    }
   ],
   "source": [
    "print(my_slit)"
   ]
  },
  {
   "cell_type": "code",
   "execution_count": 40,
   "metadata": {},
   "outputs": [],
   "source": [
    "my_slit.pressure_drop = 40000."
   ]
  },
  {
   "cell_type": "code",
   "execution_count": 41,
   "metadata": {},
   "outputs": [
    {
     "data": {
      "text/plain": [
       "9.060818549454033e-05"
      ]
     },
     "execution_count": 41,
     "metadata": {},
     "output_type": "execute_result"
    }
   ],
   "source": [
    "my_slit.q"
   ]
  },
  {
   "cell_type": "markdown",
   "metadata": {},
   "source": [
    "Check the object propperties by using print"
   ]
  },
  {
   "cell_type": "code",
   "execution_count": 13,
   "metadata": {},
   "outputs": [
    {
     "name": "stdout",
     "output_type": "stream",
     "text": [
      "Name =my laminar flow slit\n",
      "Height =0.01\n",
      "Width =0.1\n",
      "Length =1.0\n",
      "Pressure drop =40000.0\n",
      "Flow rate =9.060818549454033e-05\n",
      "Shear rate wall = 62.29932871052238\n"
     ]
    }
   ],
   "source": [
    "print(my_slit)"
   ]
  },
  {
   "cell_type": "markdown",
   "metadata": {},
   "source": [
    "We can check the viscosity model used by my_pipe"
   ]
  },
  {
   "cell_type": "code",
   "execution_count": 10,
   "metadata": {},
   "outputs": [
    {
     "data": {
      "image/png": "[encoded data removed]",
      "text/plain": [
       "<Figure size 432x288 with 1 Axes>"
      ]
     },
     "metadata": {},
     "output_type": "display_data"
    }
   ],
   "source": [
    "my_pipe.viscosity.visc_plot(.01,1000.)"
   ]
  },
  {
   "cell_type": "markdown",
   "metadata": {},
   "source": [
    "## There are several methods in the Laminar_Flow class instantiated in my_pipe"
   ]
  },
  {
   "cell_type": "markdown",
   "metadata": {},
   "source": [
    "### Shear rate"
   ]
  },
  {
   "cell_type": "markdown",
   "metadata": {},
   "source": [
    "The shear rate at any radial position between r=0 and r=radius is essential to all calculations here.  We will calculate the shear rate at the radial position of the outer wall, r=radius.  There are three different ways to do this."
   ]
  },
  {
   "cell_type": "code",
   "execution_count": 11,
   "metadata": {},
   "outputs": [
    {
     "data": {
      "text/plain": [
       "10.686761568529178"
      ]
     },
     "execution_count": 11,
     "metadata": {},
     "output_type": "execute_result"
    }
   ],
   "source": [
    "my_pipe.shear_rate(.005)"
   ]
  },
  {
   "cell_type": "code",
   "execution_count": 12,
   "metadata": {},
   "outputs": [
    {
     "data": {
      "text/plain": [
       "23.673966897448764"
      ]
     },
     "execution_count": 12,
     "metadata": {},
     "output_type": "execute_result"
    }
   ],
   "source": [
    "my_pipe.shear_rate(my_pipe.radius)"
   ]
  },
  {
   "cell_type": "code",
   "execution_count": 13,
   "metadata": {},
   "outputs": [
    {
     "data": {
      "text/plain": [
       "23.673966897448764"
      ]
     },
     "execution_count": 13,
     "metadata": {},
     "output_type": "execute_result"
    }
   ],
   "source": [
    "my_pipe.shear_rate_wall()"
   ]
  },
  {
   "cell_type": "markdown",
   "metadata": {},
   "source": [
    "There is a method to plot the shear rate as a function of radial position, shear_rate_plot()"
   ]
  },
  {
   "cell_type": "code",
   "execution_count": 14,
   "metadata": {},
   "outputs": [
    {
     "data": {
      "image/png": "[encoded data removed]",
      "text/plain": [
       "<Figure size 432x288 with 1 Axes>"
      ]
     },
     "metadata": {},
     "output_type": "display_data"
    }
   ],
   "source": [
    "my_pipe.shear_rate_plot()"
   ]
  },
  {
   "cell_type": "code",
   "execution_count": 15,
   "metadata": {},
   "outputs": [
    {
     "name": "stdout",
     "output_type": "stream",
     "text": [
      "Help on laminar_tube_flow in module rheopy.laminar object:\n",
      "\n",
      "class laminar_tube_flow(builtins.object)\n",
      " |  This class contains a variety of methods for computing quantities of interest for laminar flow in a tube.\n",
      " |  The argument viscosity requires a function (or class with method) calc_visc with parameters already set \n",
      " |  and the shear rate as it's only argument.\n",
      " |  \n",
      " |  Methods defined here:\n",
      " |  \n",
      " |  __init__(self, name, density, radius, length, viscosity)\n",
      " |      Initialize self.  See help(type(self)) for accurate signature.\n",
      " |  \n",
      " |  __str__(self)\n",
      " |      Return str(self).\n",
      " |  \n",
      " |  dp(self, q_want)\n",
      " |      Computes the pressure drop for a volumetric flow rate of q_want.\n",
      " |      The computation is iterative due to nature of many viscosity functiions.\n",
      " |      The object attribute self.pressure_drop is set to result.\n",
      " |  \n",
      " |  q(self, dp_want)\n",
      " |      Computes volumetric flow rate for preessure drop argument of dp_want.\n",
      " |      The object attribute self.pressure_drop is set to dp_want.\n",
      " |  \n",
      " |  q_plot(self, pressure_drop_min, pressure_drop_max)\n",
      " |      Creates log-log plot of pressure drop versus flow rate.\n",
      " |      A log-spacing of pressure drops between args pressure_drop_min and pressure_drop_max\n",
      " |      are created.\n",
      " |  \n",
      " |  re_wall(self)\n",
      " |      Computes Reynolds number at the wall.\n",
      " |  \n",
      " |  shear_rate(self, rad)\n",
      " |      This method computes the shear rate at a radial position (rad) that is the only argument.\n",
      " |  \n",
      " |  shear_rate_plot(self)\n",
      " |      Creates plot of shear rate versus radial position.\n",
      " |  \n",
      " |  shear_rate_wall(self)\n",
      " |      Computes the true wall shear rate, or shear rate at radial position radius.\n",
      " |  \n",
      " |  stress_wall(self)\n",
      " |      Computes shear stress at wall, radial position radius.\n",
      " |  \n",
      " |  viscosity_wall(self)\n",
      " |      Computes viscosity at wall, radial position radius.\n",
      " |  \n",
      " |  vz(self, rad)\n",
      " |      This method computes the axial velocity vz at a radial position, rad.\n",
      " |  \n",
      " |  vz_plot(self)\n",
      " |      Creates plot of axial velocity versus radial position.\n",
      " |  \n",
      " |  ----------------------------------------------------------------------\n",
      " |  Data descriptors defined here:\n",
      " |  \n",
      " |  __dict__\n",
      " |      dictionary for instance variables (if defined)\n",
      " |  \n",
      " |  __weakref__\n",
      " |      list of weak references to the object (if defined)\n",
      "\n"
     ]
    }
   ],
   "source": [
    "help(my_pipe)"
   ]
  },
  {
   "cell_type": "markdown",
   "metadata": {},
   "source": [
    "### Axial velocity"
   ]
  },
  {
   "cell_type": "markdown",
   "metadata": {},
   "source": [
    "The axial velocity is computed using the method vz(radialpos) and may be plotted across the entire radius using the method vz_plot."
   ]
  },
  {
   "cell_type": "code",
   "execution_count": 16,
   "metadata": {},
   "outputs": [
    {
     "data": {
      "text/plain": [
       "0.11070626136747272"
      ]
     },
     "execution_count": 16,
     "metadata": {},
     "output_type": "execute_result"
    }
   ],
   "source": [
    "my_pipe.vz(0.)"
   ]
  },
  {
   "cell_type": "code",
   "execution_count": 17,
   "metadata": {},
   "outputs": [
    {
     "data": {
      "text/plain": [
       "-0.0"
      ]
     },
     "execution_count": 17,
     "metadata": {},
     "output_type": "execute_result"
    }
   ],
   "source": [
    "my_pipe.vz(my_pipe.radius)"
   ]
  },
  {
   "cell_type": "code",
   "execution_count": 18,
   "metadata": {},
   "outputs": [
    {
     "data": {
      "image/png": "[encoded data removed]",
      "text/plain": [
       "<Figure size 432x288 with 1 Axes>"
      ]
     },
     "metadata": {},
     "output_type": "display_data"
    }
   ],
   "source": [
    "my_pipe.vz_plot()"
   ]
  },
  {
   "cell_type": "markdown",
   "metadata": {},
   "source": [
    "### Flow rate versus pressure drop"
   ]
  },
  {
   "cell_type": "markdown",
   "metadata": {},
   "source": [
    "The flow rate may be calculated as a function of pressure drop, or pressure drop as a function of flow rate.  Both are shown here.  Finally a log-log plot of pressure drop as a function of flowrate is shown."
   ]
  },
  {
   "cell_type": "code",
   "execution_count": 19,
   "metadata": {},
   "outputs": [
    {
     "data": {
      "text/plain": [
       "20000.0"
      ]
     },
     "execution_count": 19,
     "metadata": {},
     "output_type": "execute_result"
    }
   ],
   "source": [
    "my_pipe.pressure_drop"
   ]
  },
  {
   "cell_type": "code",
   "execution_count": 20,
   "metadata": {},
   "outputs": [
    {
     "data": {
      "text/plain": [
       "1.5803556310062981e-06"
      ]
     },
     "execution_count": 20,
     "metadata": {},
     "output_type": "execute_result"
    }
   ],
   "source": [
    "my_pipe.q(2000.)"
   ]
  },
  {
   "cell_type": "code",
   "execution_count": 21,
   "metadata": {},
   "outputs": [
    {
     "data": {
      "text/plain": [
       "1999.553464911511"
      ]
     },
     "execution_count": 21,
     "metadata": {},
     "output_type": "execute_result"
    }
   ],
   "source": [
    "my_pipe.dp(1.580e-6)"
   ]
  },
  {
   "cell_type": "code",
   "execution_count": 22,
   "metadata": {},
   "outputs": [
    {
     "data": {
      "image/png": "[encoded data removed]",
      "text/plain": [
       "<Figure size 432x288 with 1 Axes>"
      ]
     },
     "metadata": {},
     "output_type": "display_data"
    }
   ],
   "source": [
    "my_pipe.q_plot(pressure_drop_min=200.,pressure_drop_max=200000.)"
   ]
  },
  {
   "cell_type": "markdown",
   "metadata": {},
   "source": [
    "# Laminar pipe flow - 3-Comp viscosity model"
   ]
  },
  {
   "cell_type": "markdown",
   "metadata": {},
   "source": [
    "The 3-component viscosity model may be expressed with three parameters as:\n",
    "\n",
    "$ \\eta \\left( \\dot{\\gamma} \\right) = \\frac{\\tau_y}{\\dot{\\gamma}} + \\frac{\\tau_y}{\\dot{\\gamma}}\\left( \\frac{\\dot{\\gamma}_{crit}}{\\dot{\\gamma}}\\right)^n + \\eta_{bg} $\n",
    "\n",
    "To instantiate an object of class Three_component, we use"
   ]
  },
  {
   "cell_type": "code",
   "execution_count": 23,
   "metadata": {},
   "outputs": [],
   "source": [
    "my_3c_viscosity = laminar.three_component('my 3-comp viscosity model',tauy=100.,gamma_crit=10., eta_bg=1.)"
   ]
  },
  {
   "cell_type": "code",
   "execution_count": 24,
   "metadata": {},
   "outputs": [
    {
     "data": {
      "image/png": "[encoded data removed]",
      "text/plain": [
       "<Figure size 432x288 with 1 Axes>"
      ]
     },
     "metadata": {},
     "output_type": "display_data"
    }
   ],
   "source": [
    "my_3c_viscosity.visc_plot(.001,10000.)"
   ]
  },
  {
   "cell_type": "code",
   "execution_count": 25,
   "metadata": {},
   "outputs": [
    {
     "data": {
      "image/png": "[encoded data removed]",
      "text/plain": [
       "<Figure size 432x288 with 1 Axes>"
      ]
     },
     "metadata": {},
     "output_type": "display_data"
    }
   ],
   "source": [
    "my_3c_viscosity.stress_plot(.001,10000.)"
   ]
  },
  {
   "cell_type": "code",
   "execution_count": 26,
   "metadata": {},
   "outputs": [],
   "source": [
    "my_3c_pipe = laminar.laminar_tube_flow('my 3-comp pipe',density=1000.,\n",
    "                                  radius=.01,length=1.,viscosity=my_3c_viscosity)"
   ]
  },
  {
   "cell_type": "code",
   "execution_count": 29,
   "metadata": {},
   "outputs": [],
   "source": [
    "my_3c_pipe.pressure_drop = 2000."
   ]
  },
  {
   "cell_type": "code",
   "execution_count": 30,
   "metadata": {},
   "outputs": [
    {
     "name": "stdout",
     "output_type": "stream",
     "text": [
      "Name =my 3-comp pipe\n",
      "Radius =0.01\n",
      "Length =1.0\n",
      "Pressure drop =2000.0\n",
      "Computed\n",
      "Flow rate =7.879156360642064e-11\n",
      "Wall shear rate =0.00010182123549225306\n"
     ]
    }
   ],
   "source": [
    "print(my_3c_pipe)"
   ]
  },
  {
   "cell_type": "code",
   "execution_count": 31,
   "metadata": {},
   "outputs": [
    {
     "data": {
      "image/png": "[encoded data removed]",
      "text/plain": [
       "<Figure size 432x288 with 1 Axes>"
      ]
     },
     "metadata": {},
     "output_type": "display_data"
    }
   ],
   "source": [
    "my_3c_pipe.q_plot(1000.,100000.)"
   ]
  },
  {
   "cell_type": "code",
   "execution_count": 32,
   "metadata": {},
   "outputs": [
    {
     "data": {
      "text/plain": [
       "8.488407353813105e-06"
      ]
     },
     "execution_count": 32,
     "metadata": {},
     "output_type": "execute_result"
    }
   ],
   "source": [
    "my_3c_pipe.pressure_drop=50000.\n",
    "my_3c_pipe.q(50000.)"
   ]
  },
  {
   "cell_type": "code",
   "execution_count": 33,
   "metadata": {},
   "outputs": [
    {
     "data": {
      "text/plain": [
       "49999.313119416074"
      ]
     },
     "execution_count": 33,
     "metadata": {},
     "output_type": "execute_result"
    }
   ],
   "source": [
    "my_3c_pipe.dp(q_want=8.488e-06)"
   ]
  },
  {
   "cell_type": "code",
   "execution_count": 34,
   "metadata": {},
   "outputs": [
    {
     "data": {
      "image/png": "[encoded data removed]",
      "text/plain": [
       "<Figure size 432x288 with 1 Axes>"
      ]
     },
     "metadata": {},
     "output_type": "display_data"
    }
   ],
   "source": [
    "my_3c_pipe.shear_rate_plot()"
   ]
  },
  {
   "cell_type": "code",
   "execution_count": 35,
   "metadata": {},
   "outputs": [
    {
     "data": {
      "image/png": "[encoded data removed]",
      "text/plain": [
       "<Figure size 432x288 with 1 Axes>"
      ]
     },
     "metadata": {},
     "output_type": "display_data"
    }
   ],
   "source": [
    "my_3c_pipe.vz_plot()"
   ]
  },
  {
   "cell_type": "code",
   "execution_count": null,
   "metadata": {},
   "outputs": [],
   "source": []
  },
  {
   "cell_type": "code",
   "execution_count": null,
   "metadata": {},
   "outputs": [],
   "source": []
  }
 ],
 "metadata": {
  "kernelspec": {
   "display_name": "Python 3",
   "language": "python",
   "name": "python3"
  },
  "language_info": {
   "codemirror_mode": {
    "name": "ipython",
    "version": 3
   },
   "file_extension": ".py",
   "mimetype": "text/x-python",
   "name": "python",
   "nbconvert_exporter": "python",
   "pygments_lexer": "ipython3",
   "version": "3.6.8"
  }
 },
 "nbformat": 4,
 "nbformat_minor": 2
}
