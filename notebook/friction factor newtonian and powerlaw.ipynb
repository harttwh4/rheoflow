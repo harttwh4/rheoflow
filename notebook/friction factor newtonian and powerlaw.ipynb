{
 "cells": [
  {
   "cell_type": "code",
   "execution_count": 1,
   "metadata": {},
   "outputs": [],
   "source": [
    "import friction_factor_property as f\n",
    "import numpy as np\n",
    "import matplotlib.pyplot as plt"
   ]
  },
  {
   "cell_type": "markdown",
   "metadata": {},
   "source": [
    "# Newtonian example"
   ]
  },
  {
   "cell_type": "code",
   "execution_count": 2,
   "metadata": {},
   "outputs": [],
   "source": [
    "def newtonian(mu,gammadot):\n",
    "    return mu\n",
    "\n",
    "mu = 0.05\n",
    "density = 1000.\n",
    "length = 5.0\n",
    "diameter = 0.05\n",
    "\n",
    "viscosity = lambda x: newtonian(mu,x)\n",
    "a = f.friction_factor('newtonian test',rho=density,d=diameter,l=length,viscosity=viscosity)"
   ]
  },
  {
   "cell_type": "code",
   "execution_count": 3,
   "metadata": {},
   "outputs": [
    {
     "name": "stdout",
     "output_type": "stream",
     "text": [
      "Name= newtonian test\n",
      "Diameter = 0.05\n",
      "Length = 5.0\n",
      "Density = 1000.0\n",
      "U = None\n",
      "Pressure drop = None\n",
      "Friction factor = None\n",
      "Reynolds number = None\n",
      "Wall shear rate = None\n",
      "Wall shear stress = None\n",
      "\n"
     ]
    }
   ],
   "source": [
    "print(a)"
   ]
  },
  {
   "cell_type": "code",
   "execution_count": 4,
   "metadata": {},
   "outputs": [
    {
     "name": "stdout",
     "output_type": "stream",
     "text": [
      "Name= newtonian test\n",
      "Diameter = 0.05\n",
      "Length = 5.0\n",
      "Density = 1000.0\n",
      "U = 0.001\n",
      "Pressure drop = 3.1999999967999995\n",
      "Friction factor = 15.999999983999999\n",
      "Reynolds number = 1.0\n",
      "Wall shear rate = 0.15999999984\n",
      "Wall shear stress = 0.007999999992\n",
      "\n"
     ]
    }
   ],
   "source": [
    "a.u = 0.001\n",
    "print(a)"
   ]
  },
  {
   "cell_type": "code",
   "execution_count": 5,
   "metadata": {},
   "outputs": [
    {
     "name": "stdout",
     "output_type": "stream",
     "text": [
      "Name= newtonian test\n",
      "Diameter = 0.05\n",
      "Length = 5.0\n",
      "Density = 1000.0\n",
      "U = 1.0\n",
      "Pressure drop = 3199.9999999968\n",
      "Friction factor = 0.015999999999984\n",
      "Reynolds number = 1000.0\n",
      "Wall shear rate = 159.99999999983999\n",
      "Wall shear stress = 7.999999999991999\n",
      "\n"
     ]
    }
   ],
   "source": [
    "a.u = 1.0\n",
    "print(a)"
   ]
  },
  {
   "cell_type": "code",
   "execution_count": 6,
   "metadata": {},
   "outputs": [
    {
     "name": "stdout",
     "output_type": "stream",
     "text": [
      "Name= newtonian test\n",
      "Diameter = 0.05\n",
      "Length = 5.0\n",
      "Density = 1000.0\n",
      "U = 8.0\n",
      "Pressure drop = 105011.99078355222\n",
      "Friction factor = 0.008204061779965015\n",
      "Reynolds number = 8000.0\n",
      "Wall shear rate = 5250.5995391776105\n",
      "Wall shear stress = 262.5299769588805\n",
      "\n"
     ]
    }
   ],
   "source": [
    "a.u = 8.\n",
    "print(a)"
   ]
  },
  {
   "cell_type": "code",
   "execution_count": 7,
   "metadata": {},
   "outputs": [
    {
     "data": {
      "image/png": "[encoded data removed]",
      "text/plain": [
       "<Figure size 864x432 with 2 Axes>"
      ]
     },
     "metadata": {},
     "output_type": "display_data"
    }
   ],
   "source": [
    "u_list = np.logspace(-1.,1.,51)\n",
    "f_list = []\n",
    "re_list = []\n",
    "dp_list = []\n",
    "for u in u_list:\n",
    "    a.u = u\n",
    "    dp_list.append(a.dp)\n",
    "    f_list.append(a.f)\n",
    "    re_list.append(a.re)\n",
    "plt.figure(figsize=(12,6))\n",
    "plt.subplot(121)\n",
    "plt.loglog(re_list,f_list,'o')\n",
    "plt.xlabel('Re')\n",
    "plt.ylabel('f');\n",
    "plt.subplot(122)\n",
    "plt.loglog(u_list,dp_list,'o')\n",
    "plt.xlabel('U')\n",
    "plt.ylabel('Delta P');"
   ]
  },
  {
   "cell_type": "code",
   "execution_count": 8,
   "metadata": {},
   "outputs": [
    {
     "name": "stdout",
     "output_type": "stream",
     "text": [
      "Name= newtonian test\n",
      "Diameter = 0.05\n",
      "Length = 10.0\n",
      "Density = 1000.0\n",
      "U = 10.0\n",
      "Pressure drop = 309085.0564576091\n",
      "Friction factor = 0.007727126407596175\n",
      "Reynolds number = 10000.0\n",
      "Wall shear rate = 7727.1264114402275\n",
      "Wall shear stress = 386.3563205720114\n",
      "\n"
     ]
    }
   ],
   "source": [
    "a.l = 10.\n",
    "print(a)"
   ]
  },
  {
   "cell_type": "code",
   "execution_count": 9,
   "metadata": {},
   "outputs": [
    {
     "name": "stdout",
     "output_type": "stream",
     "text": [
      "Name= newtonian test\n",
      "Diameter = 0.07\n",
      "Length = 5.0\n",
      "Density = 1000.0\n",
      "U = 10.0\n",
      "Pressure drop = 101142.67290336761\n",
      "Friction factor = 0.007079987103235733\n",
      "Reynolds number = 14000.0\n",
      "Wall shear rate = 7079.987103235732\n",
      "Wall shear stress = 353.99935516178664\n",
      "\n"
     ]
    }
   ],
   "source": [
    "a.l = 5.\n",
    "a.d = .07\n",
    "print(a)"
   ]
  },
  {
   "cell_type": "code",
   "execution_count": 10,
   "metadata": {},
   "outputs": [
    {
     "name": "stdout",
     "output_type": "stream",
     "text": [
      "Name= newtonian test\n",
      "Diameter = 0.05\n",
      "Length = 5.0\n",
      "Density = 1100.0\n",
      "U = 10.0\n",
      "Pressure drop = 165780.458161321\n",
      "Friction factor = 0.007535475370969137\n",
      "Reynolds number = 11000.0\n",
      "Wall shear rate = 8289.022908066052\n",
      "Wall shear stress = 414.4511454033026\n",
      "\n"
     ]
    }
   ],
   "source": [
    "a.d = 0.05\n",
    "a.rho = 1100.\n",
    "print(a)"
   ]
  },
  {
   "cell_type": "markdown",
   "metadata": {},
   "source": [
    "# Power-law case"
   ]
  },
  {
   "cell_type": "code",
   "execution_count": 8,
   "metadata": {},
   "outputs": [],
   "source": [
    "def power_law(k,n,gammadot):\n",
    "    return k*(gammadot+1.e-9)**(n-1.)\n",
    "\n",
    "k = 1.\n",
    "n=0.5\n",
    "\n",
    "viscosity_pl = lambda x: power_law(k,n,x)\n",
    "b = f.friction_factor('test',rho=density,d=diameter,l=length,viscosity=viscosity_pl)"
   ]
  },
  {
   "cell_type": "code",
   "execution_count": 9,
   "metadata": {},
   "outputs": [
    {
     "name": "stdout",
     "output_type": "stream",
     "text": [
      "Name= test\n",
      "Diameter = 0.05\n",
      "Length = 5.0\n",
      "U = 1.0\n",
      "Pressure drop = 5059.644256249596\n",
      "Friction factor = 0.02529822128124798\n",
      "Reynolds number = 632.4555320351523\n",
      "Wall shear rate = 159.99999999974702\n",
      "Wall shear stress = 12.64911064062399\n",
      "\n"
     ]
    }
   ],
   "source": [
    "b.u = 1.0\n",
    "print(b)"
   ]
  },
  {
   "cell_type": "code",
   "execution_count": 10,
   "metadata": {},
   "outputs": [
    {
     "name": "stdout",
     "output_type": "stream",
     "text": [
      "Name= test\n",
      "Diameter = 0.05\n",
      "Length = 5.0\n",
      "U = 0.9999983175703309\n",
      "Pressure drop = 5059.64\n",
      "Friction factor = 0.025298285125099337\n",
      "Reynolds number = 632.4539359428962\n",
      "Wall shear rate = 159.99973081099995\n",
      "Wall shear stress = 12.6491\n",
      "\n"
     ]
    }
   ],
   "source": [
    "b.pressure_drop = 5059.64\n",
    "print(b)"
   ]
  },
  {
   "cell_type": "code",
   "execution_count": 11,
   "metadata": {},
   "outputs": [
    {
     "data": {
      "text/plain": [
       "0.025298285125099337"
      ]
     },
     "execution_count": 11,
     "metadata": {},
     "output_type": "execute_result"
    }
   ],
   "source": [
    "b.f"
   ]
  },
  {
   "cell_type": "code",
   "execution_count": 12,
   "metadata": {},
   "outputs": [
    {
     "data": {
      "text/plain": [
       "632.4539359428962"
      ]
     },
     "execution_count": 12,
     "metadata": {},
     "output_type": "execute_result"
    }
   ],
   "source": [
    "b.re"
   ]
  },
  {
   "cell_type": "markdown",
   "metadata": {},
   "source": [
    "## Turbulent flow"
   ]
  },
  {
   "cell_type": "code",
   "execution_count": 13,
   "metadata": {},
   "outputs": [],
   "source": [
    "b.u = 3."
   ]
  },
  {
   "cell_type": "code",
   "execution_count": 14,
   "metadata": {},
   "outputs": [
    {
     "name": "stdout",
     "output_type": "stream",
     "text": [
      "Name= test\n",
      "Diameter = 0.05\n",
      "Length = 5.0\n",
      "U = 3.0\n",
      "Pressure drop = 11551.57300503623\n",
      "Friction factor = 0.0064175405580149045\n",
      "Reynolds number = 4331.8398768937805\n",
      "Wall shear rate = 833.9927430683175\n",
      "Wall shear stress = 28.878932512590577\n",
      "\n"
     ]
    }
   ],
   "source": [
    "print(b)"
   ]
  },
  {
   "cell_type": "code",
   "execution_count": null,
   "metadata": {},
   "outputs": [],
   "source": []
  }
 ],
 "metadata": {
  "kernelspec": {
   "display_name": "Python 3",
   "language": "python",
   "name": "python3"
  },
  "language_info": {
   "codemirror_mode": {
    "name": "ipython",
    "version": 3
   },
   "file_extension": ".py",
   "mimetype": "text/x-python",
   "name": "python",
   "nbconvert_exporter": "python",
   "pygments_lexer": "ipython3",
   "version": "3.6.8"
  }
 },
 "nbformat": 4,
 "nbformat_minor": 2
}
