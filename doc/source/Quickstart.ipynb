{
 "cells": [
  {
   "cell_type": "markdown",
   "metadata": {},
   "source": [
    "# Quickstart for non-Newtonian pipe flow calculations\n",
    "\n",
    "All units are SI.\n",
    "\n",
    "### Nomenclature\n",
    "\n",
    "This notebook provides deep examples for using rheopy for pipe flow.  Both tube and slit flow examples with a variety of viscosity models are provided.  SI units units are used everywhere.  For the variables used here, the units are:\n",
    "\n",
    "$\\eta = \\left< Pas \\right>$\n",
    "\n",
    "$\\sigma = \\left< Pa \\right>$\n",
    "\n",
    "$\\dot{\\gamma} = \\left< s^{-1} \\right>$\n",
    "\n",
    "$\\Delta P = \\left< Pa \\right>$\n",
    "\n",
    "$Q = \\left< \\frac{m^3}{s} \\right>$\n",
    "\n",
    "$v_z = \\left< \\frac{m}{s} \\right>$\n",
    "\n",
    "$length = \\left< m \\right>$\n",
    "\n",
    "$radius = \\left< m \\right>$"
   ]
  },
  {
   "cell_type": "code",
   "execution_count": 1,
   "metadata": {},
   "outputs": [],
   "source": [
    "import numpy as np\n",
    "import matplotlib.pyplot as plt\n",
    "%matplotlib inline\n",
    "from ipywidgets import interact, interactive, fixed, interact_manual\n",
    "import ipywidgets as widgets\n",
    "from IPython.display import display, Math, Latex\n",
    "import rheoflow"
   ]
  },
  {
   "cell_type": "markdown",
   "metadata": {},
   "source": [
    "## Step 1 - Specify a viscosity model"
   ]
  },
  {
   "cell_type": "markdown",
   "metadata": {},
   "source": [
    "The variable (object) name is up to the user.  Here we use my_carreau_model as the name for a Carreau viscosity model with associated parameters.\n",
    "\n",
    "The details of rheoflow.viscosity.carreau may be viewed by typing help(rheoflow.viscosity.carreau).  A list of all viscosity models currently implemented may be accessed by typing help(rheoflow.viscosity).\n",
    "\n",
    "The python code is all viewable in viscosity.py"
   ]
  },
  {
   "cell_type": "code",
   "execution_count": 2,
   "metadata": {},
   "outputs": [],
   "source": [
    "my_carreau_model = rheoflow.viscosity.carreau('My first Carreau model',\n",
    "                    eta0=5.,etainf=.11,reltime=.02,a=1.3,n=.3)"
   ]
  },
  {
   "cell_type": "markdown",
   "metadata": {},
   "source": [
    "## Step 2 - Specify a pipe using the viscosity model"
   ]
  },
  {
   "cell_type": "markdown",
   "metadata": {},
   "source": [
    "The variable (object) name is up to the user. Here we use my_carreau_tube as the name for a laminar pipe flow object with associated parameters.  The viscosity model defined (instantiated) above is used.\n",
    "\n",
    "The pipe has the following attributes:\n",
    "\n",
    "radius = 0.01 m,\n",
    "length = 1.0 m,\n",
    "fluid density = 1000 kg/m^3"
   ]
  },
  {
   "cell_type": "code",
   "execution_count": 3,
   "metadata": {},
   "outputs": [],
   "source": [
    "my_carreau_tube = rheoflow.pipe.laminar('my laminar flow pipe',density=1000.,\n",
    "                               radius=.01,length=1.0,viscosity=my_carreau_model)"
   ]
  },
  {
   "cell_type": "markdown",
   "metadata": {},
   "source": [
    "## Step 3 - use the pipe flow object\n",
    "\n",
    "Initially, neither pressure drop or flow rate were specified. "
   ]
  },
  {
   "cell_type": "code",
   "execution_count": 4,
   "metadata": {},
   "outputs": [
    {
     "name": "stdout",
     "output_type": "stream",
     "text": [
      "Name =my laminar flow pipe\n",
      "Radius =0.01\n",
      "Length =1.0\n",
      "Pressure drop =None\n",
      "Flow rate =None\n",
      "Shear rate wall = None\n"
     ]
    }
   ],
   "source": [
    "print(my_carreau_tube)"
   ]
  },
  {
   "cell_type": "markdown",
   "metadata": {},
   "source": [
    "Specifiy a pressure drop"
   ]
  },
  {
   "cell_type": "code",
   "execution_count": 5,
   "metadata": {},
   "outputs": [],
   "source": [
    "my_carreau_tube.pressure_drop = 20000."
   ]
  },
  {
   "cell_type": "code",
   "execution_count": 6,
   "metadata": {},
   "outputs": [
    {
     "name": "stdout",
     "output_type": "stream",
     "text": [
      "Name =my laminar flow pipe\n",
      "Radius =0.01\n",
      "Length =1.0\n",
      "Pressure drop =20000.0\n",
      "Flow rate =1.782691971171862e-05\n",
      "Shear rate wall = 23.673966897448867\n"
     ]
    }
   ],
   "source": [
    "print(my_carreau_tube)"
   ]
  },
  {
   "cell_type": "markdown",
   "metadata": {},
   "source": [
    "### Accessing attributes of a pipe object"
   ]
  },
  {
   "cell_type": "code",
   "execution_count": 7,
   "metadata": {},
   "outputs": [
    {
     "data": {
      "text/plain": [
       "1.782691971171862e-05"
      ]
     },
     "execution_count": 7,
     "metadata": {},
     "output_type": "execute_result"
    }
   ],
   "source": [
    "my_carreau_tube.q"
   ]
  },
  {
   "cell_type": "code",
   "execution_count": 8,
   "metadata": {},
   "outputs": [
    {
     "data": {
      "text/plain": [
       "20000.0"
      ]
     },
     "execution_count": 8,
     "metadata": {},
     "output_type": "execute_result"
    }
   ],
   "source": [
    "my_carreau_tube.pressure_drop"
   ]
  },
  {
   "cell_type": "code",
   "execution_count": 9,
   "metadata": {},
   "outputs": [
    {
     "data": {
      "text/plain": [
       "0.01"
      ]
     },
     "execution_count": 9,
     "metadata": {},
     "output_type": "execute_result"
    }
   ],
   "source": [
    "my_carreau_tube.radius"
   ]
  },
  {
   "cell_type": "code",
   "execution_count": 11,
   "metadata": {},
   "outputs": [
    {
     "data": {
      "text/plain": [
       "23.673966897448867"
      ]
     },
     "execution_count": 11,
     "metadata": {},
     "output_type": "execute_result"
    }
   ],
   "source": [
    "my_carreau_tube.shear_rate_wall"
   ]
  },
  {
   "cell_type": "code",
   "execution_count": 12,
   "metadata": {},
   "outputs": [
    {
     "data": {
      "text/plain": [
       "100.0"
      ]
     },
     "execution_count": 12,
     "metadata": {},
     "output_type": "execute_result"
    }
   ],
   "source": [
    "my_carreau_tube.shear_stress_wall"
   ]
  },
  {
   "cell_type": "markdown",
   "metadata": {},
   "source": [
    "### Modifying attributes of a pipe object"
   ]
  },
  {
   "cell_type": "code",
   "execution_count": 13,
   "metadata": {},
   "outputs": [],
   "source": [
    "my_carreau_tube.q = .0001"
   ]
  },
  {
   "cell_type": "code",
   "execution_count": 14,
   "metadata": {},
   "outputs": [
    {
     "name": "stdout",
     "output_type": "stream",
     "text": [
      "Name =my laminar flow pipe\n",
      "Radius =0.01\n",
      "Length =1.0\n",
      "Pressure drop =65281.39307599825\n",
      "Flow rate =0.0001\n",
      "Shear rate wall = 157.32118720688686\n"
     ]
    }
   ],
   "source": [
    "print(my_carreau_tube)"
   ]
  },
  {
   "cell_type": "code",
   "execution_count": 15,
   "metadata": {},
   "outputs": [],
   "source": [
    "my_carreau_tube.pressure_drop = 40000."
   ]
  },
  {
   "cell_type": "code",
   "execution_count": 16,
   "metadata": {},
   "outputs": [
    {
     "name": "stdout",
     "output_type": "stream",
     "text": [
      "Name =my laminar flow pipe\n",
      "Radius =0.01\n",
      "Length =1.0\n",
      "Pressure drop =40000.0\n",
      "Flow rate =4.376689029902029e-05\n",
      "Shear rate wall = 62.29932871052237\n"
     ]
    }
   ],
   "source": [
    "print(my_carreau_tube)"
   ]
  },
  {
   "cell_type": "markdown",
   "metadata": {},
   "source": [
    "### A few convenience plots"
   ]
  },
  {
   "cell_type": "code",
   "execution_count": 18,
   "metadata": {},
   "outputs": [
    {
     "data": {
      "image/png": "[encoded data removed]",
      "text/plain": [
       "<Figure size 432x288 with 1 Axes>"
      ]
     },
     "metadata": {
      "needs_background": "light"
     },
     "output_type": "display_data"
    }
   ],
   "source": [
    "my_carreau_model.visc_plot()"
   ]
  },
  {
   "cell_type": "code",
   "execution_count": 20,
   "metadata": {},
   "outputs": [
    {
     "data": {
      "image/png": "[encoded data removed]",
      "text/plain": [
       "<Figure size 432x288 with 1 Axes>"
      ]
     },
     "metadata": {
      "needs_background": "light"
     },
     "output_type": "display_data"
    }
   ],
   "source": [
    "my_carreau_tube.q_plot(pressure_drop_min=2000.,pressure_drop_max=100000.)"
   ]
  },
  {
   "cell_type": "code",
   "execution_count": 21,
   "metadata": {},
   "outputs": [
    {
     "data": {
      "image/png": "[encoded data removed]",
      "text/plain": [
       "<Figure size 432x288 with 1 Axes>"
      ]
     },
     "metadata": {
      "needs_background": "light"
     },
     "output_type": "display_data"
    }
   ],
   "source": [
    "my_carreau_tube.shear_rate_plot()"
   ]
  },
  {
   "cell_type": "code",
   "execution_count": 22,
   "metadata": {},
   "outputs": [
    {
     "data": {
      "image/png": "[encoded data removed]",
      "text/plain": [
       "<Figure size 432x288 with 1 Axes>"
      ]
     },
     "metadata": {
      "needs_background": "light"
     },
     "output_type": "display_data"
    }
   ],
   "source": [
    "my_carreau_tube.vz_plot()"
   ]
  },
  {
   "cell_type": "code",
   "execution_count": null,
   "metadata": {},
   "outputs": [],
   "source": []
  }
 ],
 "metadata": {
  "kernelspec": {
   "display_name": "Python 3",
   "language": "python",
   "name": "python3"
  },
  "language_info": {
   "codemirror_mode": {
    "name": "ipython",
    "version": 3
   },
   "file_extension": ".py",
   "mimetype": "text/x-python",
   "name": "python",
   "nbconvert_exporter": "python",
   "pygments_lexer": "ipython3",
   "version": "3.6.9"
  }
 },
 "nbformat": 4,
 "nbformat_minor": 2
}
