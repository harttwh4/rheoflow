{
 "cells": [
  {
   "cell_type": "markdown",
   "metadata": {},
   "source": [
    "# Turbulent flow non-Newtonian pipe flow"
   ]
  },
  {
   "cell_type": "code",
   "execution_count": 1,
   "metadata": {},
   "outputs": [],
   "source": [
    "import numpy as np\n",
    "import matplotlib.pyplot as plt\n",
    "%matplotlib inline\n",
    "import scipy.optimize as spo\n",
    "from scipy.optimize import fsolve\n",
    "\n",
    "from rheoflow import friction_factor_property as f\n",
    "\n",
    "import warnings\n",
    "warnings.filterwarnings(\"ignore\")"
   ]
  },
  {
   "cell_type": "markdown",
   "metadata": {},
   "source": [
    "## Technical background - friction factor calculations for non-Newtonian fluids"
   ]
  },
  {
   "cell_type": "markdown",
   "metadata": {},
   "source": [
    "### Von Karmen equation for f\n",
    "\n",
    "$ \\frac{1}{\\sqrt{f}} = 4.0 log_{10} \\left(Re \\sqrt{f} \\right) - 0.4 $\n",
    "\n",
    "The function f_vonkarmen returns the value of the equation given $f_{guess}$ and Re\n",
    "\n",
    "$ \\frac{1}{\\sqrt{f_{guess}}} - 4.0 log_{10} \\left(Re \\sqrt{f_{guess}} \\right) + 0.4 $\n",
    "\n",
    "The scipy function brentq is used here to solve the equation above for f by setting the equation to 0.  brentq requires three arguments:\n",
    "1. A function with one argument that returns value of equation to be solved\n",
    "2. Minimum value of variable to be solved for\n",
    "3. Maximum value of variable top be solved for\n",
    "\n",
    "The function f_vonkarmen has two arguments, $f_{guess}$ and Re. A lambda function is used here to create a function with a single argument $f_{guess}$ for a specified value of Re.\n",
    "\n",
    "lambda $f_{guess}$: f_vonkarmen($f_{guess}$,Re)\n",
    "\n",
    "### Non-Newtonian Von Karmen equation (Dodge and Metzner)\n",
    "\n",
    "The modified Von Karmen equation from Dodge and Metzner is\n",
    "\n",
    "\n",
    "$ \\frac{1}{\\sqrt{f}} = \\frac{4}{n'^{0.75}} Log \\left( f^{1-\\frac{n'}{2}} Re \\right) - \\frac{0.4}{n'^{1.2}} $\n",
    "\n",
    "This equation is solved in the same manner as the Newtonian version with scipy.brentq.\n",
    "\n",
    "### Calculation of n'\n",
    "\n",
    "In the series of Metzner papers, n' is defined as\n",
    "\n",
    "$ n' = \\frac{d Log \\left( \\tau_w \\right)}{d  Log \\left( \\dot{\\gamma}_a \\right) }$\n",
    "\n",
    "where $\\tau_w$ is the wall shear stress and $\\dot{\\gamma}_a$ is the apparent wall shear rate.\n",
    "\n",
    "$\\tau_w = \\frac{D}{4} \\frac{\\Delta P}{L}$\n",
    "\n",
    "$\\dot{\\gamma}_a = \\frac{8U}{D}$\n",
    "\n",
    "To make this calculation model independent, it is computed numerically now.  In the future automatic differentiation would be nice. For now:\n",
    "\n",
    "$n' = \\frac{Log (\\eta (x+\\Delta x)(x+\\Delta x)) - Log (\\eta(x-\\Delta x )(x-\\Delta x))}{Log(x+\\Delta x) - Log(x-\\Delta x)}$\n",
    "\n",
    "where x = $\\dot{\\gamma}_w$\n",
    "\n",
    "### Equations to solve\n",
    "\n",
    "$ \\frac{1}{\\sqrt{f}} = \\frac{4}{n'^{0.75}} Log \\left( f^{1-\\frac{n'}{2}} Re \\right) - \\frac{0.4}{n'^{1.2}} $\n",
    "\n",
    "$ Re = \\frac{\\rho D U}{\\eta(\\dot{\\gamma}_w)} $\n",
    "\n",
    "$ \\tau_w = \\eta(\\dot{\\gamma}_w) \\dot{\\gamma}_w $\n",
    "\n",
    "$ \\tau_w = \\frac{D}{4} \\frac{\\Delta P}{L} $\n",
    "\n",
    "$ f = \\frac{\\Delta P D}{2 \\rho^2 L} $\n",
    "\n",
    "with unknowns f, Re, $\\tau_w$, $\\dot{\\gamma}_w$, $\\Delta P$ assuming $\\eta(\\dot{\\gamma})$, $\\rho$, D, and L are specified\n",
    "\n",
    "\n",
    "### Note on friction factor definitions\n",
    "\n",
    "There are at least three friction factor definitions: Darcy, Fanning, and Newton.  The Fanning friction factor (used here) is \n",
    "\n",
    "$ f = \\frac{D \\Delta P}{2 \\rho  U^2 L} $\n",
    "\n",
    "The resulting laminar flow equation is\n",
    "\n",
    "$ f = \\frac{16}{Re} $\n",
    "\n",
    "The Darcy friction factor is \n",
    "\n",
    "$ f_D = \\frac{ 2 D \\Delta P}{\\rho U^2 L} $\n",
    "\n",
    "and the resulting laminar flow equation is \n",
    "\n",
    "$ f_D = \\frac{64}{Re} $\n",
    "\n",
    "Finally there is the Newton number.  We don't use that here."
   ]
  },
  {
   "cell_type": "markdown",
   "metadata": {},
   "source": [
    "## Example power-law viscosity model calculations"
   ]
  },
  {
   "cell_type": "markdown",
   "metadata": {},
   "source": [
    "### Define a viscosity model"
   ]
  },
  {
   "cell_type": "code",
   "execution_count": 2,
   "metadata": {},
   "outputs": [],
   "source": [
    "def power_law(k,n,gammadot):\n",
    "    return k*(gammadot+1.e-9)**(n-1.)\n",
    "\n",
    "k = .1\n",
    "n = .5\n",
    "viscosity = lambda x: power_law(k,n,x)"
   ]
  },
  {
   "cell_type": "markdown",
   "metadata": {},
   "source": [
    "### Create (instantiate) an object of class friction_factor\n",
    "\n",
    "For this case the pipe diamter is 0.09387m, the pipe length is 100m, and the fluid density is 1000 kg/m^3."
   ]
  },
  {
   "cell_type": "code",
   "execution_count": 3,
   "metadata": {},
   "outputs": [],
   "source": [
    "a = f.friction_factor(name='test',rho=1000.,d=.09738,l=100.,viscosity=viscosity)"
   ]
  },
  {
   "cell_type": "markdown",
   "metadata": {},
   "source": [
    "### Case 1 - mass flow rate = 200 kg/min \n",
    "\n",
    "The mass flow rate is 200 kg/min.  The average velocity, u, is calculated anf the attribute a.u is set to this."
   ]
  },
  {
   "cell_type": "code",
   "execution_count": 5,
   "metadata": {},
   "outputs": [
    {
     "name": "stdout",
     "output_type": "stream",
     "text": [
      "Name= test\n",
      "Diameter = 0.09738\n",
      "Length = 100.0\n",
      "Density = 1000.0\n",
      "U = 0.44755837705026\n",
      "Pressure drop = 2958.7020853480603\n",
      "Friction factor = 0.007191866741121529\n",
      "Reynolds number = 3139.283065162426\n",
      "Wall shear rate = 51.882636029577945\n",
      "Wall shear stress = 0.7202960226779853\n",
      "\n"
     ]
    }
   ],
   "source": [
    "mdot = 200.0 # kg/min\n",
    "density = 1000. # kg/m^3\n",
    "q = mdot/60.0/density\n",
    "u = q / (3.14159*(a.d/2.0)**2)\n",
    "\n",
    "a.u=u\n",
    "print(a)"
   ]
  },
  {
   "cell_type": "markdown",
   "metadata": {},
   "source": [
    "### Case 2 - Pressure drop is 2958.7 Pa"
   ]
  },
  {
   "cell_type": "code",
   "execution_count": 6,
   "metadata": {},
   "outputs": [
    {
     "name": "stdout",
     "output_type": "stream",
     "text": [
      "Name= test\n",
      "Diameter = 0.09738\n",
      "Length = 100.0\n",
      "Density = 1000.0\n",
      "U = 0.4475581150143437\n",
      "Pressure drop = 2958.7\n",
      "Friction factor = 0.007191870093534452\n",
      "Reynolds number = 3139.279014555334\n",
      "Wall shear rate = 51.88256289391151\n",
      "Wall shear stress = 0.720295515\n",
      "\n"
     ]
    }
   ],
   "source": [
    "a.pressure_drop = 2958.7\n",
    "print(a)"
   ]
  },
  {
   "cell_type": "markdown",
   "metadata": {},
   "source": [
    "### Accessing each attribute"
   ]
  },
  {
   "cell_type": "code",
   "execution_count": 7,
   "metadata": {},
   "outputs": [
    {
     "data": {
      "text/plain": [
       "0.4475581150143437"
      ]
     },
     "execution_count": 7,
     "metadata": {},
     "output_type": "execute_result"
    }
   ],
   "source": [
    "a.u"
   ]
  },
  {
   "cell_type": "code",
   "execution_count": 8,
   "metadata": {},
   "outputs": [
    {
     "data": {
      "text/plain": [
       "2958.7"
      ]
     },
     "execution_count": 8,
     "metadata": {},
     "output_type": "execute_result"
    }
   ],
   "source": [
    "a.pressure_drop"
   ]
  },
  {
   "cell_type": "code",
   "execution_count": 9,
   "metadata": {},
   "outputs": [
    {
     "data": {
      "text/plain": [
       "0.007191870093534452"
      ]
     },
     "execution_count": 9,
     "metadata": {},
     "output_type": "execute_result"
    }
   ],
   "source": [
    "a.f"
   ]
  },
  {
   "cell_type": "code",
   "execution_count": 10,
   "metadata": {},
   "outputs": [
    {
     "data": {
      "text/plain": [
       "0.09738"
      ]
     },
     "execution_count": 10,
     "metadata": {},
     "output_type": "execute_result"
    }
   ],
   "source": [
    "a.d"
   ]
  },
  {
   "cell_type": "code",
   "execution_count": 11,
   "metadata": {},
   "outputs": [
    {
     "data": {
      "text/plain": [
       "100.0"
      ]
     },
     "execution_count": 11,
     "metadata": {},
     "output_type": "execute_result"
    }
   ],
   "source": [
    "a.l"
   ]
  },
  {
   "cell_type": "code",
   "execution_count": null,
   "metadata": {},
   "outputs": [],
   "source": []
  }
 ],
 "metadata": {
  "kernelspec": {
   "display_name": "Python 3",
   "language": "python",
   "name": "python3"
  },
  "language_info": {
   "codemirror_mode": {
    "name": "ipython",
    "version": 3
   },
   "file_extension": ".py",
   "mimetype": "text/x-python",
   "name": "python",
   "nbconvert_exporter": "python",
   "pygments_lexer": "ipython3",
   "version": "3.6.9"
  }
 },
 "nbformat": 4,
 "nbformat_minor": 2
}
