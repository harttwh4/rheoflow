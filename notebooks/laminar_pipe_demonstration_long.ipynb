{
 "cells": [
  {
   "cell_type": "markdown",
   "metadata": {},
   "source": [
    "# Quickstart for laminar, non-Newtonian pipe flow"
   ]
  },
  {
   "cell_type": "markdown",
   "metadata": {},
   "source": [
    "[![Colab](https://colab.research.google.com/assets/colab-badge.svg)](https://colab.research.google.com/github/rheopy/rheoflow/blob/master/notebooks/index.ipynb)"
   ]
  },
  {
   "cell_type": "code",
   "execution_count": 1,
   "metadata": {},
   "outputs": [],
   "source": [
    "run_from_colab = True\n",
    "rheoflow_installation = 'rheoflow not installed' \n",
    "if (rheoflow_installation == 'rheoflow not installed' or run_from_colab == True):\n",
    "    !pip3 install git+https://github.com/rheopy/rheoflow.git\n",
    "    !pip install ipywidgets"
   ]
  },
  {
   "cell_type": "code",
   "execution_count": 1,
   "metadata": {},
   "outputs": [],
   "source": [
    "import numpy as np\n",
    "import matplotlib.pyplot as plt\n",
    "%matplotlib inline\n",
    "from ipywidgets import interact, interactive, fixed, interact_manual\n",
    "import ipywidgets as widgets\n",
    "from IPython.display import display, Math, Latex\n",
    "import rheoflow"
   ]
  },
  {
   "cell_type": "code",
   "execution_count": 2,
   "metadata": {},
   "outputs": [
    {
     "data": {
      "application/vnd.jupyter.widget-view+json": {
       "model_id": "9afc17b03aff40cfb6532245b418489e",
       "version_major": 2,
       "version_minor": 0
      },
      "text/plain": [
       "interactive(children=(FloatSlider(value=5050.0, description='pressure_drop', max=10000.0, min=100.0), FloatSli…"
      ]
     },
     "metadata": {},
     "output_type": "display_data"
    },
    {
     "data": {
      "text/plain": [
       "<function __main__.tube_dashboard_plot(pressure_drop, radius, length, density, eta0, reltime, n)>"
      ]
     },
     "execution_count": 2,
     "metadata": {},
     "output_type": "execute_result"
    }
   ],
   "source": [
    "def tube_dashboard_plot(pressure_drop,radius,length,density,eta0,reltime,n):\n",
    "    plt.figure(figsize=(14,12))\n",
    "    viscosity = rheoflow.viscosity.carreau('Carreau dashboard',eta0=eta0,etainf=.1,reltime=reltime,a=2.0,n=n)\n",
    "    pipe = rheoflow.pipe.laminar('my laminar tube',density=density,radius=radius,length=length,\n",
    "                              viscosity=viscosity)\n",
    "    pipe.pressure_drop = pressure_drop\n",
    "    plt.subplot(221)\n",
    "    viscosity.visc_plot()\n",
    "    plt.plot(pipe.shear_rate_wall,pipe.viscosity_wall(),'o')\n",
    "    plt.subplot(222)\n",
    "    pipe.q_plot(pressure_drop_min=200.,pressure_drop_max=200000.)\n",
    "    plt.plot(pipe.q,pipe.pressure_drop,'o')\n",
    "    plt.subplot(223)\n",
    "    pipe.shear_rate_plot()\n",
    "    plt.subplot(224)\n",
    "    pipe.vz_plot()\n",
    "    \n",
    "#tube_dashboard_plot(pressure_drop=20000.,radius=.01,length=1.,density=1000.,eta0=10.,reltime=1.,n=.6)\n",
    "interact(tube_dashboard_plot,pressure_drop=(100.,10000.),radius=(.01,.05),length=(.1,.5),\n",
    "         density=(500,1500),eta0=(1,100),reltime=(.001,10),n=(.2,0.9),continuous_update=False)"
   ]
  },
  {
   "cell_type": "markdown",
   "metadata": {},
   "source": [
    "## Nomenclature\n",
    "\n",
    "This notebook provides deep examples for using rheopy for pipe flow.  Both tube and slit flow examples with a variety of viscosity models are provided.  SI units units are used everywhere.  For the variables used here, the units are:\n",
    "\n",
    "$\\eta = \\left< Pas \\right>$\n",
    "\n",
    "$\\sigma = \\left< Pa \\right>$\n",
    "\n",
    "$\\dot{\\gamma} = \\left< s^{-1} \\right>$\n",
    "\n",
    "$\\Delta P = \\left< Pa \\right>$\n",
    "\n",
    "$Q = \\left< \\frac{m^3}{s} \\right>$\n",
    "\n",
    "$v_z = \\left< \\frac{m}{s} \\right>$\n",
    "\n",
    "$length = \\left< m \\right>$\n",
    "\n",
    "$radius = \\left< m \\right>$"
   ]
  },
  {
   "cell_type": "markdown",
   "metadata": {},
   "source": [
    "## Calculation procedure\n",
    "\n",
    "The rheopy.laminar notebook is intended to work with any viscosity model.  There are four elemenets of computation:\n",
    "\n",
    "1. A viscosity model using the class structure provided - $\\eta(\\dot{\\gamma})$\n",
    "2. Shear rate calculation at any radial position (tube) or height (slit) - $\\dot{\\gamma}(r)$\n",
    "3. Velocity calculation at any position - $v_z(r)$\n",
    "4. Volumetric flow rate - $Q$, given $\\Delta P$ (or vice versa)"
   ]
  },
  {
   "cell_type": "markdown",
   "metadata": {},
   "source": [
    "## Details of calculations\n",
    "\n",
    "### 1 - Viscosity model\n",
    "Use pre-existing, or create new function with viscosity as a function of shear rate:\n",
    "\n",
    "$\\eta \\left[ \\dot{\\gamma} \\right]$\n",
    "\n",
    "### 2 - Shear rate calculation ($\\dot{\\gamma}$)\n",
    "The equation to be solved for shear rate at any radial position is\n",
    "\n",
    "$\\eta \\left[ \\dot{\\gamma}(r) \\right] \\dot{\\gamma}(r) = \\frac{r}{2} \\frac{\\Delta P}{L}$,\n",
    "\n",
    "where $\\dot{\\gamma}(r) = \\frac{d v_z(r)}{dr}$\n",
    "\n",
    "This equation is simply an equality of shear stress from constituitve model and shear stress from a momentum balance.  This calculation is numerical in rheopy because this equation does not always have analytical solutions.  The Carreau viscosity model is an example where an analytical solution does not yet exist.  \n",
    "\n",
    "Note that 4 inputs are required: \n",
    "1. Viscosity model - $\\eta(\\dot{\\gamma})$\n",
    "2. Tube radius\n",
    "3. Tube length\n",
    "4. Pressure drop ($\\Delta P$)\n",
    "\n",
    "### 3 - Velocity calculation ($v_z$)\n",
    "The axial velocity is calculated from the shear rate directly\n",
    "\n",
    "$v_z(r) = -\\int_{r}^{R} \\dot{\\gamma}(r)dr$\n",
    "\n",
    "This integral is computed numerically beacuse the shear rate is computed numerically.\n",
    "\n",
    "### 4 - Volumetric flow rate ($Q$)\n",
    "The volumetric flow rate is computed by numerically integrating the velocity profile\n",
    "\n",
    "$Q = 2\\pi \\int_{0}^{R} v_z(r)rdr$\n",
    "\n",
    "Note that if Q is an input, then $\\Delta P$ must be solved for iteratively.  "
   ]
  },
  {
   "cell_type": "markdown",
   "metadata": {},
   "source": [
    "## Carreau viscosity model example"
   ]
  },
  {
   "cell_type": "markdown",
   "metadata": {},
   "source": [
    "The Carreau viscosity model may be expressed with four parameters as:\n",
    "\n",
    "$ \\eta \\left( \\dot{\\gamma} \\right) = \\eta_{\\infty}+ \\frac{\\eta_0-\\eta_{\\infty}}{\\left( \\left( 1+\\left(\\lambda \\dot{\\gamma} \\right)^a \\right) \\right)^{\\frac{1-n}{n}}} $\n"
   ]
  },
  {
   "cell_type": "code",
   "execution_count": 61,
   "metadata": {},
   "outputs": [],
   "source": [
    "my_carreau_model = rheoflow.viscosity.carreau('My first Carreau model',\n",
    "                                   eta0=5.,etainf=.11,reltime=.02,a=1.3,n=.3)"
   ]
  },
  {
   "cell_type": "code",
   "execution_count": 62,
   "metadata": {},
   "outputs": [
    {
     "data": {
      "image/png": "[encoded data removed]",
      "text/plain": [
       "<Figure size 432x288 with 1 Axes>"
      ]
     },
     "metadata": {
      "needs_background": "light"
     },
     "output_type": "display_data"
    }
   ],
   "source": [
    "my_carreau_model.visc_plot()"
   ]
  },
  {
   "cell_type": "markdown",
   "metadata": {},
   "source": [
    "## Laminar pipe flow - Carreau viscosity model"
   ]
  },
  {
   "cell_type": "code",
   "execution_count": 36,
   "metadata": {},
   "outputs": [],
   "source": [
    "my_carreau_tube = rheoflow.pipe.laminar('my laminar flow pipe',density=1000.,\n",
    "                               radius=.01,length=1.0,viscosity=my_carreau_model)"
   ]
  },
  {
   "cell_type": "code",
   "execution_count": 63,
   "metadata": {},
   "outputs": [],
   "source": [
    "my_carreau_tube.pressure_drop = 20000."
   ]
  },
  {
   "cell_type": "code",
   "execution_count": 64,
   "metadata": {},
   "outputs": [
    {
     "name": "stdout",
     "output_type": "stream",
     "text": [
      "Name =my laminar flow pipe\n",
      "Radius =0.01\n",
      "Length =1.0\n",
      "Pressure drop =20000.0\n",
      "Flow rate =1.782691971171862e-05\n",
      "Shear rate wall = 23.673966897448867\n"
     ]
    }
   ],
   "source": [
    "print(my_carreau_tube)"
   ]
  },
  {
   "cell_type": "markdown",
   "metadata": {},
   "source": [
    "### Shear rate calculation"
   ]
  },
  {
   "cell_type": "code",
   "execution_count": 65,
   "metadata": {},
   "outputs": [
    {
     "data": {
      "text/plain": [
       "23.673966897448867"
      ]
     },
     "execution_count": 65,
     "metadata": {},
     "output_type": "execute_result"
    }
   ],
   "source": [
    "my_carreau_tube.shear_rate_wall"
   ]
  },
  {
   "cell_type": "code",
   "execution_count": 66,
   "metadata": {},
   "outputs": [
    {
     "data": {
      "text/plain": [
       "100.0"
      ]
     },
     "execution_count": 66,
     "metadata": {},
     "output_type": "execute_result"
    }
   ],
   "source": [
    "my_carreau_tube.shear_stress_wall"
   ]
  },
  {
   "cell_type": "code",
   "execution_count": 67,
   "metadata": {},
   "outputs": [
    {
     "data": {
      "image/png": "[encoded data removed]",
      "text/plain": [
       "<Figure size 432x288 with 1 Axes>"
      ]
     },
     "metadata": {
      "needs_background": "light"
     },
     "output_type": "display_data"
    }
   ],
   "source": [
    "my_carreau_tube.shear_rate_plot()"
   ]
  },
  {
   "cell_type": "code",
   "execution_count": 68,
   "metadata": {},
   "outputs": [
    {
     "data": {
      "image/png": "[encoded data removed]",
      "text/plain": [
       "<Figure size 432x288 with 1 Axes>"
      ]
     },
     "metadata": {
      "needs_background": "light"
     },
     "output_type": "display_data"
    }
   ],
   "source": [
    "my_carreau_tube.vz_plot()"
   ]
  },
  {
   "cell_type": "markdown",
   "metadata": {},
   "source": [
    "### Flow rate versus pressure drop"
   ]
  },
  {
   "cell_type": "code",
   "execution_count": 69,
   "metadata": {},
   "outputs": [
    {
     "data": {
      "text/plain": [
       "1.782691971171862e-05"
      ]
     },
     "execution_count": 69,
     "metadata": {},
     "output_type": "execute_result"
    }
   ],
   "source": [
    "my_carreau_tube.q"
   ]
  },
  {
   "cell_type": "code",
   "execution_count": 70,
   "metadata": {},
   "outputs": [
    {
     "data": {
      "image/png": "[encoded data removed]",
      "text/plain": [
       "<Figure size 432x288 with 1 Axes>"
      ]
     },
     "metadata": {
      "needs_background": "light"
     },
     "output_type": "display_data"
    }
   ],
   "source": [
    "my_carreau_tube.q_plot(pressure_drop_min=200.,pressure_drop_max=200000.)"
   ]
  },
  {
   "cell_type": "code",
   "execution_count": null,
   "metadata": {},
   "outputs": [],
   "source": []
  }
 ],
 "metadata": {
  "kernelspec": {
   "display_name": "Python 3",
   "language": "python",
   "name": "python3"
  },
  "language_info": {
   "codemirror_mode": {
    "name": "ipython",
    "version": 3
   },
   "file_extension": ".py",
   "mimetype": "text/x-python",
   "name": "python",
   "nbconvert_exporter": "python",
   "pygments_lexer": "ipython3",
   "version": "3.6.9"
  }
 },
 "nbformat": 4,
 "nbformat_minor": 4
}
