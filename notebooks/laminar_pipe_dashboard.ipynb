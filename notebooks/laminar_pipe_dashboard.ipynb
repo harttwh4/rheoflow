{
 "cells": [
  {
   "cell_type": "code",
   "execution_count": 1,
   "metadata": {},
   "outputs": [],
   "source": [
    "import numpy as np\n",
    "import matplotlib.pyplot as plt\n",
    "%matplotlib inline\n",
    "\n",
    "from ipywidgets import interact, fixed\n",
    "from ipywidgets import widgets\n",
    "from IPython.display import display, Math, Latex\n",
    "\n",
    "import rheoflow"
   ]
  },
  {
   "cell_type": "code",
   "execution_count": 7,
   "metadata": {},
   "outputs": [],
   "source": [
    "def tube_dashboard_plot(pressure_drop,radius,length,density,eta0,reltime,n):\n",
    "    plt.figure(figsize=(14,12))\n",
    "    viscosity = rheoflow.viscosity.carreau('Carreau dashboard',eta0=eta0,etainf=.11,reltime=reltime,a=1.3,n=n)\n",
    "    pipe = rheoflow.pipe.laminar('laminar tube flow',density=density,radius=radius,length=length,\n",
    "                              viscosity=viscosity)\n",
    "    pipe.pressure_drop = pressure_drop\n",
    "    plt.subplot(221)\n",
    "    viscosity.visc_plot()\n",
    "    plt.plot(pipe.shear_rate_wall,pipe.viscosity_wall(),'o')\n",
    "    plt.subplot(222)\n",
    "    pipe.q_plot(pressure_drop_min=200.,pressure_drop_max=200000.)\n",
    "    plt.plot(pipe.q,pipe.pressure_drop,'o')\n",
    "    plt.subplot(223)\n",
    "    pipe.shear_rate_plot()\n",
    "    plt.subplot(224)\n",
    "    pipe.vz_plot()"
   ]
  },
  {
   "cell_type": "code",
   "execution_count": 8,
   "metadata": {},
   "outputs": [
    {
     "data": {
      "application/vnd.jupyter.widget-view+json": {
       "model_id": "b61b85d0bbc04f4f92857406221783b0",
       "version_major": 2,
       "version_minor": 0
      },
      "text/plain": [
       "interactive(children=(FloatSlider(value=5050.0, description='pressure_drop', max=10000.0, min=100.0), FloatSli…"
      ]
     },
     "metadata": {},
     "output_type": "display_data"
    },
    {
     "data": {
      "text/plain": [
       "<function __main__.tube_dashboard_plot(pressure_drop, radius, length, density, eta0, reltime, n)>"
      ]
     },
     "execution_count": 8,
     "metadata": {},
     "output_type": "execute_result"
    }
   ],
   "source": [
    "interact(tube_dashboard_plot,pressure_drop=(100.,10000.),radius=(.01,.05),length=(.1,.5),\n",
    "         density=(500,1500),eta0=(1,100),reltime=(.001,10),n=(.2,0.9),continuous_update=False)\n"
   ]
  },
  {
   "cell_type": "code",
   "execution_count": null,
   "metadata": {},
   "outputs": [],
   "source": []
  }
 ],
 "metadata": {
  "kernelspec": {
   "display_name": "Python 3",
   "language": "python",
   "name": "python3"
  },
  "language_info": {
   "codemirror_mode": {
    "name": "ipython",
    "version": 3
   },
   "file_extension": ".py",
   "mimetype": "text/x-python",
   "name": "python",
   "nbconvert_exporter": "python",
   "pygments_lexer": "ipython3",
   "version": "3.6.9"
  }
 },
 "nbformat": 4,
 "nbformat_minor": 4
}
