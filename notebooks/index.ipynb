{
 "cells": [
  {
   "cell_type": "markdown",
   "metadata": {},
   "source": [
    "# Rheoflow notebook index\n",
    "\n",
    "\n",
    "This index is the landing notebook for the colab badge\n",
    "\n",
    "* [Turbulent non-Newtonian flow via DodgeMetzner](dodge_metzner.ipynb)\n",
    "```\n",
    "Reproduction of Figure 12 in Dodge and Metzner (1959)\n",
    "```\n",
    "![caption](dodge_metzner_fig12.png?raw=1)\n",
    "\n",
    "\n",
    "\n",
    "\n",
    "* [Laminar pipe flow with any viscosity model](laminar_pipe_demonstration.ipynb)\n",
    "```\n",
    "Example calculation of laminar pipe flow with a Carreau viscosity model\n",
    "```\n",
    "\n",
    "\n",
    "\n",
    "* [Axial annular flow with a power-law viscosity model](Axial_Annular_Flow_PowerLaw.ipynb)\n",
    "```\n",
    "Reproduction of Table I in hanks and Larsen (1979) \n",
    "```\n",
    "![caption](hanks_larsen_ax_ann_flow.png?raw=1)"
   ]
  },
  {
   "cell_type": "code",
   "execution_count": null,
   "metadata": {},
   "outputs": [],
   "source": []
  }
 ],
 "metadata": {
  "kernelspec": {
   "display_name": "Python 3",
   "language": "python",
   "name": "python3"
  },
  "language_info": {
   "codemirror_mode": {
    "name": "ipython",
    "version": 3
   },
   "file_extension": ".py",
   "mimetype": "text/x-python",
   "name": "python",
   "nbconvert_exporter": "python",
   "pygments_lexer": "ipython3",
   "version": "3.6.9"
  }
 },
 "nbformat": 4,
 "nbformat_minor": 2
}
