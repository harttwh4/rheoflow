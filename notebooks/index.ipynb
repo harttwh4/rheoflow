{
 "cells": [
  {
   "cell_type": "markdown",
   "metadata": {},
   "source": [
    "# Rheoflow notebook index\n",
    "\n",
    "\n",
    "This index is the landing notebook for the colab badge\n",
    "\n",
    "* [Turbulent non-Newtonian flow via DodgeMetzner](dodge_metzner.ipynb)\n",
    "```\n",
    "Example of how to start using rheofit to analyze one or more flow curves, explore results and save to file\n",
    "```\n",
    "\n",
    "* [Laminar pipe flow with any viscosity model](laminar_pipe_demonstration.ipynb)\n",
    "```\n",
    "Examples of how to load rheology data using function provided by rheodata class\n",
    "```\n"
   ]
  },
  {
   "cell_type": "code",
   "execution_count": null,
   "metadata": {},
   "outputs": [],
   "source": []
  }
 ],
 "metadata": {
  "kernelspec": {
   "display_name": "Python 3",
   "language": "python",
   "name": "python3"
  },
  "language_info": {
   "codemirror_mode": {
    "name": "ipython",
    "version": 3
   },
   "file_extension": ".py",
   "mimetype": "text/x-python",
   "name": "python",
   "nbconvert_exporter": "python",
   "pygments_lexer": "ipython3",
   "version": "3.6.9"
  }
 },
 "nbformat": 4,
 "nbformat_minor": 2
}
