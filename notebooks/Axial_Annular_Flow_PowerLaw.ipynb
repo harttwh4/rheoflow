{
 "cells": [
  {
   "cell_type": "markdown",
   "metadata": {},
   "source": [
    "# Axial Annular Flow - Power Law"
   ]
  },
  {
   "cell_type": "markdown",
   "metadata": {},
   "source": [
    "![caption](frederickson_bird_ax_ann_flow_fig.png?raw=1)"
   ]
  },
  {
   "cell_type": "markdown",
   "metadata": {},
   "source": [
    "![caption](hanks_larsen_ax_ann_flow.png?raw=1)"
   ]
  },
  {
   "cell_type": "code",
   "execution_count": 26,
   "metadata": {},
   "outputs": [],
   "source": [
    "from numpy import *\n",
    "from scipy.integrate import quad\n",
    "from scipy.optimize import fsolve"
   ]
  },
  {
   "cell_type": "code",
   "execution_count": 23,
   "metadata": {},
   "outputs": [],
   "source": [
    "\n",
    "class beta():\n",
    "    def betaeqn(self,beta):\n",
    "        return self.intlhs(beta) - self.intrhs(beta)\n",
    "    def lhs(self, beta, xi):\n",
    "        return ( beta**2/xi - xi)**(1.0/self.n)\n",
    "    def rhs(self,beta,xi):\n",
    "        return (xi-beta**2/xi)**(1.0/self.n)\n",
    "    def intlhs(self, beta):\n",
    "        return quad(lambda xi: self.lhs(beta,xi),self.kappa, beta)[0]\n",
    "    def intrhs(self, beta):\n",
    "        return quad(lambda xi: self.rhs(beta,xi),beta, 1.0)[0]\n",
    "    def qeqn(self, dplguess):\n",
    "        self.dpl = dplguess\n",
    "        beta = self.betacomp()\n",
    "        return self.qdef - 3.14159265359*self.rad**3/(1.0/self.n+3.0)* \\\n",
    "                    (self.rad/(2.0*self.k)*dplguess)**(1.0/self.n)*((1.0-beta**2)** \\\n",
    "                    (1.0+1.0/self.n)-self.kappa**(1.0-1.0/self.n)*(beta**2-self.kappa**2) \\\n",
    "                    **(1.0+1.0/self.n))\n",
    "    \n",
    "class anncomp(beta):\n",
    "    def betacomp(self):\n",
    "        self.betaguess = self.kappa + (1.0-self.kappa)/2.0\n",
    "        self.beta = fsolve( self.betaeqn, self.betaguess)\n",
    "        return self.beta\n",
    "    def dplcomp(self):\n",
    "        #need set self.dplguess to solve for dpl given q; q is specified as self.qdef\n",
    "        self.dpl = fsolve( self.qeqn, self.dplguess)\n",
    "        self.betacomp()\n",
    "        return self.dpl  \n",
    "    def q(self):\n",
    "        return 3.14159265359*self.rad**3/(1.0/self.n+3.0)*(self.rad/(2.0*self.k)*self.dpl)** \\\n",
    "                (1.0/self.n)*((1.0-self.beta**2)**(1.0+1.0/self.n)-self.kappa**(1.0-1.0/self.n)* \\\n",
    "                (self.beta**2-self.kappa**2)**(1.0+1.0/self.n))\n",
    "    def stress(self):\n",
    "        self.stressinner = self.dpl*self.rad/2.0*(self.kappa-self.beta**2/self.kappa)\n",
    "        self.stressouter = self.dpl*self.rad/2.0*(1.0-self.beta**2)\n",
    "        return (self.stressinner, self.stressouter)\n",
    "    def shearrate(self):\n",
    "        self.rateinner = (-self.stressinner/self.k)**(1.0/self.n)\n",
    "        self.rateouter = (self.stressouter/self.k)**(1.0/self.n)\n",
    "        return ( self.rateinner, self.rateouter )\n",
    "        \n",
    "\n",
    "class anntest(anncomp):\n",
    "    #def __init__(self, kappa=0.974, k=892.0, n=0.1155, dpl=1.5e+7, rad=0.02):\n",
    "    #    self.kappa=kappa; self.k=k; self.n=n; self.dpl=dpl; self.rad=rad;\n",
    "    def getdpl(self):\n",
    "        # this method runs through solving for q given dpl\n",
    "        self.dplcomp()\n",
    "        print('beta = ', self.betacomp())\n",
    "        print('kappa = ', self.kappa)\n",
    "        print('n = ', self.n)\n",
    "        print('Pressure drop per unit length (solved) = ',self.dpl)\n",
    "        print('Computed volumetric flow rate = ',self.q())\n",
    "        stress = self.stress()\n",
    "        print('Wall shear rates = ', self.shearrate())\n",
    "        return [ self.betacomp(), self.kappa, self.n ]\n",
    "    def getq(self):\n",
    "        # this method computes q given dpl\n",
    "        self.betacomp()\n",
    "        print('beta = ', self.beta)\n",
    "        print('kappa = ', self.kappa)\n",
    "        print('n = ', self.n)\n",
    "        print('Pressure drop per unit length (given) = ',self.dpl)\n",
    "        print('Computed volumetric flow rate = ',self.q())\n",
    "        stress = self.stress()\n",
    "        print('Wall shear rates = ', self.shearrate())\n",
    "        return [ self.betacomp(), self.kappa, self.n ]\n",
    "    def postresult(self):\n",
    "        return [ self.q(), self.dpl, self.stress(), self.shearrate() ]\n"
   ]
  },
  {
   "cell_type": "code",
   "execution_count": 25,
   "metadata": {},
   "outputs": [
    {
     "name": "stdout",
     "output_type": "stream",
     "text": [
      "beta =  [0.81452102]\n",
      "kappa =  0.65\n",
      "n =  0.4\n",
      "Pressure drop per unit length (solved) =  [2144701.19280107]\n",
      "Computed volumetric flow rate =  [0.000577]\n",
      "Wall shear rates =  (array([2777.98099986]), array([2182.03569587]))\n"
     ]
    },
    {
     "data": {
      "text/plain": [
       "[array([0.81452102]), 0.65, 0.4]"
      ]
     },
     "execution_count": 25,
     "metadata": {},
     "output_type": "execute_result"
    }
   ],
   "source": [
    "\n",
    "# Instantiate object\n",
    "a = anntest()\n",
    "\n",
    "# Define variables\n",
    "# outer radius\n",
    "a.rad = 15.0e-3\n",
    "# kappa\n",
    "a.kappa = 9.75e-3/a.rad\n",
    "# power law k #inner divided by outer radius\n",
    "a.k = 250.0\n",
    "# power law n\n",
    "a.n = 0.4\n",
    "\n",
    "# Use this to solve for dp/L given q\n",
    "#flow rate in cubic meters per sec\n",
    "a.qdef = 5.77e-4\n",
    "a.dplguess = 5.0 / 14.7 *101325.0 / 3.0e-3\n",
    "a.getdpl()\n",
    "\n",
    "# Use this to compute q given dp/L\n",
    "#a.dpl = 14819641.7282\n",
    "#a.getq()"
   ]
  },
  {
   "cell_type": "code",
   "execution_count": null,
   "metadata": {},
   "outputs": [],
   "source": []
  }
 ],
 "metadata": {
  "kernelspec": {
   "display_name": "Python 3",
   "language": "python",
   "name": "python3"
  },
  "language_info": {
   "codemirror_mode": {
    "name": "ipython",
    "version": 3
   },
   "file_extension": ".py",
   "mimetype": "text/x-python",
   "name": "python",
   "nbconvert_exporter": "python",
   "pygments_lexer": "ipython3",
   "version": "3.6.9"
  }
 },
 "nbformat": 4,
 "nbformat_minor": 2
}
